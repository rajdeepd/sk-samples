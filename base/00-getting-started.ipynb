{
 "cells": [
  {
   "cell_type": "markdown",
   "metadata": {},
   "source": [
    "# Setup\n",
    "\n",
    "**Step 1**: Import Semantic Kernel SDK from pypi.org"
   ]
  },
  {
   "cell_type": "code",
   "execution_count": 5,
   "metadata": {},
   "outputs": [
    {
     "name": "stdout",
     "output_type": "stream",
     "text": [
      "Requirement already satisfied: semantic-kernel in /Users/rdua/miniconda3/lib/python3.9/site-packages (0.3.15.dev0)\n",
      "Requirement already satisfied: regex<2024.0.0,>=2023.6.3 in /Users/rdua/miniconda3/lib/python3.9/site-packages (from semantic-kernel) (2023.10.3)\n",
      "Requirement already satisfied: numpy<2.0.0,>=1.24.2 in /Users/rdua/miniconda3/lib/python3.9/site-packages (from semantic-kernel) (1.26.0)\n",
      "Requirement already satisfied: openapi_core<0.19.0,>=0.18.0 in /Users/rdua/miniconda3/lib/python3.9/site-packages (from semantic-kernel) (0.18.2)\n",
      "Requirement already satisfied: aiofiles<24.0.0,>=23.1.0 in /Users/rdua/miniconda3/lib/python3.9/site-packages (from semantic-kernel) (23.2.1)\n",
      "Requirement already satisfied: prance<24.0.0.0,>=23.6.21.0 in /Users/rdua/miniconda3/lib/python3.9/site-packages (from semantic-kernel) (23.6.21.0)\n",
      "Requirement already satisfied: pydantic<2 in /Users/rdua/miniconda3/lib/python3.9/site-packages (from semantic-kernel) (1.10.13)\n",
      "Requirement already satisfied: motor<4.0.0,>=3.3.1 in /Users/rdua/miniconda3/lib/python3.9/site-packages (from semantic-kernel) (3.3.2)\n",
      "Requirement already satisfied: python-dotenv==1.0.0 in /Users/rdua/miniconda3/lib/python3.9/site-packages (from semantic-kernel) (1.0.0)\n",
      "Requirement already satisfied: openai<0.29,>=0.27 in /Users/rdua/miniconda3/lib/python3.9/site-packages (from semantic-kernel) (0.27.8)\n",
      "Requirement already satisfied: pymongo<5,>=4.5 in /Users/rdua/miniconda3/lib/python3.9/site-packages (from motor<4.0.0,>=3.3.1->semantic-kernel) (4.6.1)\n",
      "Requirement already satisfied: requests>=2.20 in /Users/rdua/miniconda3/lib/python3.9/site-packages (from openai<0.29,>=0.27->semantic-kernel) (2.31.0)\n",
      "Requirement already satisfied: aiohttp in /Users/rdua/miniconda3/lib/python3.9/site-packages (from openai<0.29,>=0.27->semantic-kernel) (3.8.4)\n",
      "Requirement already satisfied: tqdm in /Users/rdua/miniconda3/lib/python3.9/site-packages (from openai<0.29,>=0.27->semantic-kernel) (4.64.0)\n",
      "Requirement already satisfied: parse in /Users/rdua/miniconda3/lib/python3.9/site-packages (from openapi_core<0.19.0,>=0.18.0->semantic-kernel) (1.20.0)\n",
      "Requirement already satisfied: openapi-spec-validator<0.8.0,>=0.7.1 in /Users/rdua/miniconda3/lib/python3.9/site-packages (from openapi_core<0.19.0,>=0.18.0->semantic-kernel) (0.7.1)\n",
      "Requirement already satisfied: more-itertools in /Users/rdua/miniconda3/lib/python3.9/site-packages (from openapi_core<0.19.0,>=0.18.0->semantic-kernel) (10.1.0)\n",
      "Requirement already satisfied: openapi-schema-validator<0.7.0,>=0.6.0 in /Users/rdua/miniconda3/lib/python3.9/site-packages (from openapi_core<0.19.0,>=0.18.0->semantic-kernel) (0.6.2)\n",
      "Requirement already satisfied: jsonschema-spec<0.3.0,>=0.2.3 in /Users/rdua/miniconda3/lib/python3.9/site-packages (from openapi_core<0.19.0,>=0.18.0->semantic-kernel) (0.2.4)\n",
      "Requirement already satisfied: werkzeug in /Users/rdua/miniconda3/lib/python3.9/site-packages (from openapi_core<0.19.0,>=0.18.0->semantic-kernel) (3.0.1)\n",
      "Requirement already satisfied: jsonschema<5.0.0,>=4.18.0 in /Users/rdua/miniconda3/lib/python3.9/site-packages (from openapi_core<0.19.0,>=0.18.0->semantic-kernel) (4.20.0)\n",
      "Requirement already satisfied: asgiref<4.0.0,>=3.6.0 in /Users/rdua/miniconda3/lib/python3.9/site-packages (from openapi_core<0.19.0,>=0.18.0->semantic-kernel) (3.7.2)\n",
      "Requirement already satisfied: isodate in /Users/rdua/miniconda3/lib/python3.9/site-packages (from openapi_core<0.19.0,>=0.18.0->semantic-kernel) (0.6.1)\n",
      "Requirement already satisfied: typing-extensions>=4 in /Users/rdua/miniconda3/lib/python3.9/site-packages (from asgiref<4.0.0,>=3.6.0->openapi_core<0.19.0,>=0.18.0->semantic-kernel) (4.8.0)\n",
      "Requirement already satisfied: jsonschema-specifications>=2023.03.6 in /Users/rdua/miniconda3/lib/python3.9/site-packages (from jsonschema<5.0.0,>=4.18.0->openapi_core<0.19.0,>=0.18.0->semantic-kernel) (2023.7.1)\n",
      "Requirement already satisfied: referencing>=0.28.4 in /Users/rdua/miniconda3/lib/python3.9/site-packages (from jsonschema<5.0.0,>=4.18.0->openapi_core<0.19.0,>=0.18.0->semantic-kernel) (0.30.2)\n",
      "Requirement already satisfied: rpds-py>=0.7.1 in /Users/rdua/miniconda3/lib/python3.9/site-packages (from jsonschema<5.0.0,>=4.18.0->openapi_core<0.19.0,>=0.18.0->semantic-kernel) (0.13.2)\n",
      "Requirement already satisfied: attrs>=22.2.0 in /Users/rdua/miniconda3/lib/python3.9/site-packages (from jsonschema<5.0.0,>=4.18.0->openapi_core<0.19.0,>=0.18.0->semantic-kernel) (23.1.0)\n",
      "Requirement already satisfied: pathable<0.5.0,>=0.4.1 in /Users/rdua/miniconda3/lib/python3.9/site-packages (from jsonschema-spec<0.3.0,>=0.2.3->openapi_core<0.19.0,>=0.18.0->semantic-kernel) (0.4.3)\n",
      "Requirement already satisfied: PyYAML>=5.1 in /Users/rdua/miniconda3/lib/python3.9/site-packages (from jsonschema-spec<0.3.0,>=0.2.3->openapi_core<0.19.0,>=0.18.0->semantic-kernel) (6.0.1)\n",
      "Requirement already satisfied: rfc3339-validator in /Users/rdua/miniconda3/lib/python3.9/site-packages (from openapi-schema-validator<0.7.0,>=0.6.0->openapi_core<0.19.0,>=0.18.0->semantic-kernel) (0.1.4)\n",
      "Requirement already satisfied: lazy-object-proxy<2.0.0,>=1.7.1 in /Users/rdua/miniconda3/lib/python3.9/site-packages (from openapi-spec-validator<0.8.0,>=0.7.1->openapi_core<0.19.0,>=0.18.0->semantic-kernel) (1.9.0)\n",
      "Requirement already satisfied: jsonschema-path<0.4.0,>=0.3.1 in /Users/rdua/miniconda3/lib/python3.9/site-packages (from openapi-spec-validator<0.8.0,>=0.7.1->openapi_core<0.19.0,>=0.18.0->semantic-kernel) (0.3.2)\n",
      "Requirement already satisfied: ruamel.yaml>=0.17.10 in /Users/rdua/miniconda3/lib/python3.9/site-packages (from prance<24.0.0.0,>=23.6.21.0->semantic-kernel) (0.18.5)\n",
      "Requirement already satisfied: six~=1.15 in /Users/rdua/miniconda3/lib/python3.9/site-packages (from prance<24.0.0.0,>=23.6.21.0->semantic-kernel) (1.16.0)\n",
      "Requirement already satisfied: packaging>=21.3 in /Users/rdua/miniconda3/lib/python3.9/site-packages (from prance<24.0.0.0,>=23.6.21.0->semantic-kernel) (23.1)\n",
      "Requirement already satisfied: chardet>=3.0 in /Users/rdua/miniconda3/lib/python3.9/site-packages (from prance<24.0.0.0,>=23.6.21.0->semantic-kernel) (3.0.4)\n",
      "Requirement already satisfied: dnspython<3.0.0,>=1.16.0 in /Users/rdua/miniconda3/lib/python3.9/site-packages (from pymongo<5,>=4.5->motor<4.0.0,>=3.3.1->semantic-kernel) (2.4.2)\n",
      "Requirement already satisfied: idna<4,>=2.5 in /Users/rdua/miniconda3/lib/python3.9/site-packages (from requests>=2.20->openai<0.29,>=0.27->semantic-kernel) (3.3)\n",
      "Requirement already satisfied: charset-normalizer<4,>=2 in /Users/rdua/miniconda3/lib/python3.9/site-packages (from requests>=2.20->openai<0.29,>=0.27->semantic-kernel) (2.0.4)\n",
      "Requirement already satisfied: urllib3<3,>=1.21.1 in /Users/rdua/miniconda3/lib/python3.9/site-packages (from requests>=2.20->openai<0.29,>=0.27->semantic-kernel) (1.26.9)\n",
      "Requirement already satisfied: certifi>=2017.4.17 in /Users/rdua/miniconda3/lib/python3.9/site-packages (from requests>=2.20->openai<0.29,>=0.27->semantic-kernel) (2023.7.22)\n",
      "Requirement already satisfied: ruamel.yaml.clib>=0.2.7 in /Users/rdua/miniconda3/lib/python3.9/site-packages (from ruamel.yaml>=0.17.10->prance<24.0.0.0,>=23.6.21.0->semantic-kernel) (0.2.8)\n",
      "Requirement already satisfied: multidict<7.0,>=4.5 in /Users/rdua/miniconda3/lib/python3.9/site-packages (from aiohttp->openai<0.29,>=0.27->semantic-kernel) (6.0.4)\n",
      "Requirement already satisfied: frozenlist>=1.1.1 in /Users/rdua/miniconda3/lib/python3.9/site-packages (from aiohttp->openai<0.29,>=0.27->semantic-kernel) (1.3.3)\n",
      "Requirement already satisfied: async-timeout<5.0,>=4.0.0a3 in /Users/rdua/miniconda3/lib/python3.9/site-packages (from aiohttp->openai<0.29,>=0.27->semantic-kernel) (4.0.2)\n",
      "Requirement already satisfied: aiosignal>=1.1.2 in /Users/rdua/miniconda3/lib/python3.9/site-packages (from aiohttp->openai<0.29,>=0.27->semantic-kernel) (1.3.1)\n",
      "Requirement already satisfied: yarl<2.0,>=1.0 in /Users/rdua/miniconda3/lib/python3.9/site-packages (from aiohttp->openai<0.29,>=0.27->semantic-kernel) (1.9.2)\n",
      "Requirement already satisfied: MarkupSafe>=2.1.1 in /Users/rdua/miniconda3/lib/python3.9/site-packages (from werkzeug->openapi_core<0.19.0,>=0.18.0->semantic-kernel) (2.1.1)\n"
     ]
    }
   ],
   "source": [
    "!python -m pip install semantic-kernel"
   ]
  },
  {
   "cell_type": "code",
   "execution_count": 12,
   "metadata": {},
   "outputs": [
    {
     "name": "stdout",
     "output_type": "stream",
     "text": [
      "Collecting six==1.12.0\n",
      "  Downloading six-1.12.0-py2.py3-none-any.whl (10 kB)\n",
      "Installing collected packages: six\n",
      "  Attempting uninstall: six\n",
      "    Found existing installation: six 1.16.0\n",
      "    Uninstalling six-1.16.0:\n",
      "      Successfully uninstalled six-1.16.0\n",
      "\u001b[31mERROR: pip's dependency resolver does not currently take into account all the packages that are installed. This behaviour is the source of the following dependency conflicts.\n",
      "textract 1.6.5 requires beautifulsoup4~=4.8.0, but you have beautifulsoup4 4.12.2 which is incompatible.\n",
      "prance 23.6.21.0 requires six~=1.15, but you have six 1.12.0 which is incompatible.\u001b[0m\n",
      "Successfully installed six-1.12.0\n"
     ]
    }
   ],
   "source": [
    "!pip install six==1.12.0"
   ]
  },
  {
   "cell_type": "code",
   "execution_count": 13,
   "metadata": {},
   "outputs": [],
   "source": [
    "import semantic_kernel as sk\n",
    "\n",
    "kernel = sk.Kernel()"
   ]
  },
  {
   "cell_type": "markdown",
   "metadata": {},
   "source": [
    "## Option 1: using OpenAI\n",
    "\n",
    "**Step 2**: Add your [OpenAI Key](https://openai.com/product/) key to a `.env` file in the same folder (org Id only if you have multiple orgs):\n",
    "\n",
    "```\n",
    "OPENAI_API_KEY=\"sk-...\"\n",
    "OPENAI_ORG_ID=\"\"\n",
    "```\n",
    "\n",
    "and add OpenAI Chat Completion to the kernel:"
   ]
  },
  {
   "cell_type": "code",
   "execution_count": 14,
   "metadata": {},
   "outputs": [
    {
     "ename": "ContextualVersionConflict",
     "evalue": "(six 1.12.0 (/Users/rdua/miniconda3/lib/python3.9/site-packages), Requirement.parse('six~=1.15'), {'prance'})",
     "output_type": "error",
     "traceback": [
      "\u001b[0;31m---------------------------------------------------------------------------\u001b[0m",
      "\u001b[0;31mContextualVersionConflict\u001b[0m                 Traceback (most recent call last)",
      "Cell \u001b[0;32mIn[14], line 1\u001b[0m\n\u001b[0;32m----> 1\u001b[0m \u001b[38;5;28;01mfrom\u001b[39;00m \u001b[38;5;21;01msemantic_kernel\u001b[39;00m\u001b[38;5;21;01m.\u001b[39;00m\u001b[38;5;21;01mconnectors\u001b[39;00m\u001b[38;5;21;01m.\u001b[39;00m\u001b[38;5;21;01mai\u001b[39;00m\u001b[38;5;21;01m.\u001b[39;00m\u001b[38;5;21;01mopen_ai\u001b[39;00m \u001b[38;5;28;01mimport\u001b[39;00m OpenAIChatCompletion\n\u001b[1;32m      3\u001b[0m api_key, org_id \u001b[38;5;241m=\u001b[39m sk\u001b[38;5;241m.\u001b[39mopenai_settings_from_dot_env()\n\u001b[1;32m      5\u001b[0m kernel\u001b[38;5;241m.\u001b[39madd_chat_service(\u001b[38;5;124m\"\u001b[39m\u001b[38;5;124mchat-gpt\u001b[39m\u001b[38;5;124m\"\u001b[39m, OpenAIChatCompletion(\u001b[38;5;124m\"\u001b[39m\u001b[38;5;124mgpt-3.5-turbo\u001b[39m\u001b[38;5;124m\"\u001b[39m, api_key, org_id))\n",
      "File \u001b[0;32m~/miniconda3/lib/python3.9/site-packages/semantic_kernel/connectors/ai/open_ai/__init__.py:3\u001b[0m\n\u001b[1;32m      1\u001b[0m \u001b[38;5;66;03m# Copyright (c) Microsoft. All rights reserved.\u001b[39;00m\n\u001b[0;32m----> 3\u001b[0m \u001b[38;5;28;01mfrom\u001b[39;00m \u001b[38;5;21;01msemantic_kernel\u001b[39;00m\u001b[38;5;21;01m.\u001b[39;00m\u001b[38;5;21;01mconnectors\u001b[39;00m\u001b[38;5;21;01m.\u001b[39;00m\u001b[38;5;21;01mai\u001b[39;00m\u001b[38;5;21;01m.\u001b[39;00m\u001b[38;5;21;01mopen_ai\u001b[39;00m\u001b[38;5;21;01m.\u001b[39;00m\u001b[38;5;21;01mservices\u001b[39;00m\u001b[38;5;21;01m.\u001b[39;00m\u001b[38;5;21;01mazure_chat_completion\u001b[39;00m \u001b[38;5;28;01mimport\u001b[39;00m (\n\u001b[1;32m      4\u001b[0m     AzureChatCompletion,\n\u001b[1;32m      5\u001b[0m )\n\u001b[1;32m      6\u001b[0m \u001b[38;5;28;01mfrom\u001b[39;00m \u001b[38;5;21;01msemantic_kernel\u001b[39;00m\u001b[38;5;21;01m.\u001b[39;00m\u001b[38;5;21;01mconnectors\u001b[39;00m\u001b[38;5;21;01m.\u001b[39;00m\u001b[38;5;21;01mai\u001b[39;00m\u001b[38;5;21;01m.\u001b[39;00m\u001b[38;5;21;01mopen_ai\u001b[39;00m\u001b[38;5;21;01m.\u001b[39;00m\u001b[38;5;21;01mservices\u001b[39;00m\u001b[38;5;21;01m.\u001b[39;00m\u001b[38;5;21;01mazure_text_completion\u001b[39;00m \u001b[38;5;28;01mimport\u001b[39;00m (\n\u001b[1;32m      7\u001b[0m     AzureTextCompletion,\n\u001b[1;32m      8\u001b[0m )\n\u001b[1;32m      9\u001b[0m \u001b[38;5;28;01mfrom\u001b[39;00m \u001b[38;5;21;01msemantic_kernel\u001b[39;00m\u001b[38;5;21;01m.\u001b[39;00m\u001b[38;5;21;01mconnectors\u001b[39;00m\u001b[38;5;21;01m.\u001b[39;00m\u001b[38;5;21;01mai\u001b[39;00m\u001b[38;5;21;01m.\u001b[39;00m\u001b[38;5;21;01mopen_ai\u001b[39;00m\u001b[38;5;21;01m.\u001b[39;00m\u001b[38;5;21;01mservices\u001b[39;00m\u001b[38;5;21;01m.\u001b[39;00m\u001b[38;5;21;01mazure_text_embedding\u001b[39;00m \u001b[38;5;28;01mimport\u001b[39;00m (\n\u001b[1;32m     10\u001b[0m     AzureTextEmbedding,\n\u001b[1;32m     11\u001b[0m )\n",
      "File \u001b[0;32m~/miniconda3/lib/python3.9/site-packages/semantic_kernel/connectors/ai/open_ai/services/azure_chat_completion.py:7\u001b[0m\n\u001b[1;32m      4\u001b[0m \u001b[38;5;28;01mfrom\u001b[39;00m \u001b[38;5;21;01mlogging\u001b[39;00m \u001b[38;5;28;01mimport\u001b[39;00m Logger\n\u001b[1;32m      5\u001b[0m \u001b[38;5;28;01mfrom\u001b[39;00m \u001b[38;5;21;01mtyping\u001b[39;00m \u001b[38;5;28;01mimport\u001b[39;00m Optional\n\u001b[0;32m----> 7\u001b[0m \u001b[38;5;28;01mfrom\u001b[39;00m \u001b[38;5;21;01msemantic_kernel\u001b[39;00m\u001b[38;5;21;01m.\u001b[39;00m\u001b[38;5;21;01mconnectors\u001b[39;00m\u001b[38;5;21;01m.\u001b[39;00m\u001b[38;5;21;01mai\u001b[39;00m\u001b[38;5;21;01m.\u001b[39;00m\u001b[38;5;21;01mopen_ai\u001b[39;00m\u001b[38;5;21;01m.\u001b[39;00m\u001b[38;5;21;01mservices\u001b[39;00m\u001b[38;5;21;01m.\u001b[39;00m\u001b[38;5;21;01mopen_ai_chat_completion\u001b[39;00m \u001b[38;5;28;01mimport\u001b[39;00m (\n\u001b[1;32m      8\u001b[0m     OpenAIChatCompletion,\n\u001b[1;32m      9\u001b[0m )\n\u001b[1;32m     12\u001b[0m \u001b[38;5;28;01mclass\u001b[39;00m \u001b[38;5;21;01mAzureChatCompletion\u001b[39;00m(OpenAIChatCompletion):\n\u001b[1;32m     13\u001b[0m     _endpoint: \u001b[38;5;28mstr\u001b[39m\n",
      "File \u001b[0;32m~/miniconda3/lib/python3.9/site-packages/semantic_kernel/connectors/ai/open_ai/services/open_ai_chat_completion.py:24\u001b[0m\n\u001b[1;32m     18\u001b[0m \u001b[38;5;28;01mfrom\u001b[39;00m \u001b[38;5;21;01msemantic_kernel\u001b[39;00m\u001b[38;5;21;01m.\u001b[39;00m\u001b[38;5;21;01mconnectors\u001b[39;00m\u001b[38;5;21;01m.\u001b[39;00m\u001b[38;5;21;01mai\u001b[39;00m\u001b[38;5;21;01m.\u001b[39;00m\u001b[38;5;21;01mcomplete_request_settings\u001b[39;00m \u001b[38;5;28;01mimport\u001b[39;00m (\n\u001b[1;32m     19\u001b[0m     CompleteRequestSettings,\n\u001b[1;32m     20\u001b[0m )\n\u001b[1;32m     21\u001b[0m \u001b[38;5;28;01mfrom\u001b[39;00m \u001b[38;5;21;01msemantic_kernel\u001b[39;00m\u001b[38;5;21;01m.\u001b[39;00m\u001b[38;5;21;01mconnectors\u001b[39;00m\u001b[38;5;21;01m.\u001b[39;00m\u001b[38;5;21;01mai\u001b[39;00m\u001b[38;5;21;01m.\u001b[39;00m\u001b[38;5;21;01mtext_completion_client_base\u001b[39;00m \u001b[38;5;28;01mimport\u001b[39;00m (\n\u001b[1;32m     22\u001b[0m     TextCompletionClientBase,\n\u001b[1;32m     23\u001b[0m )\n\u001b[0;32m---> 24\u001b[0m \u001b[38;5;28;01mfrom\u001b[39;00m \u001b[38;5;21;01msemantic_kernel\u001b[39;00m\u001b[38;5;21;01m.\u001b[39;00m\u001b[38;5;21;01mconnectors\u001b[39;00m\u001b[38;5;21;01m.\u001b[39;00m\u001b[38;5;21;01mtelemetry\u001b[39;00m \u001b[38;5;28;01mimport\u001b[39;00m APP_INFO\n\u001b[1;32m     25\u001b[0m \u001b[38;5;28;01mfrom\u001b[39;00m \u001b[38;5;21;01msemantic_kernel\u001b[39;00m\u001b[38;5;21;01m.\u001b[39;00m\u001b[38;5;21;01mutils\u001b[39;00m\u001b[38;5;21;01m.\u001b[39;00m\u001b[38;5;21;01mnull_logger\u001b[39;00m \u001b[38;5;28;01mimport\u001b[39;00m NullLogger\n\u001b[1;32m     28\u001b[0m \u001b[38;5;28;01mclass\u001b[39;00m \u001b[38;5;21;01mOpenAIChatCompletion\u001b[39;00m(ChatCompletionClientBase, TextCompletionClientBase):\n",
      "File \u001b[0;32m~/miniconda3/lib/python3.9/site-packages/semantic_kernel/connectors/telemetry.py:18\u001b[0m\n\u001b[1;32m      9\u001b[0m IS_TELEMETRY_ENABLED \u001b[38;5;241m=\u001b[39m os\u001b[38;5;241m.\u001b[39menviron\u001b[38;5;241m.\u001b[39mget(\n\u001b[1;32m     10\u001b[0m     TELEMETRY_DISABLED_ENV_VAR, \u001b[38;5;124m\"\u001b[39m\u001b[38;5;124mfalse\u001b[39m\u001b[38;5;124m\"\u001b[39m\n\u001b[1;32m     11\u001b[0m )\u001b[38;5;241m.\u001b[39mlower() \u001b[38;5;129;01mnot\u001b[39;00m \u001b[38;5;129;01min\u001b[39;00m [\u001b[38;5;124m\"\u001b[39m\u001b[38;5;124mtrue\u001b[39m\u001b[38;5;124m\"\u001b[39m, \u001b[38;5;124m\"\u001b[39m\u001b[38;5;124m1\u001b[39m\u001b[38;5;124m\"\u001b[39m]\n\u001b[1;32m     13\u001b[0m HTTP_USER_AGENT \u001b[38;5;241m=\u001b[39m \u001b[38;5;124m\"\u001b[39m\u001b[38;5;124mSemantic-Kernel\u001b[39m\u001b[38;5;124m\"\u001b[39m\n\u001b[1;32m     15\u001b[0m APP_INFO \u001b[38;5;241m=\u001b[39m (\n\u001b[1;32m     16\u001b[0m     {\n\u001b[1;32m     17\u001b[0m         \u001b[38;5;124m\"\u001b[39m\u001b[38;5;124mname\u001b[39m\u001b[38;5;124m\"\u001b[39m: HTTP_USER_AGENT,\n\u001b[0;32m---> 18\u001b[0m         \u001b[38;5;124m\"\u001b[39m\u001b[38;5;124mversion\u001b[39m\u001b[38;5;124m\"\u001b[39m: \u001b[43mpkg_resources\u001b[49m\u001b[38;5;241;43m.\u001b[39;49m\u001b[43mget_distribution\u001b[49m\u001b[43m(\u001b[49m\u001b[38;5;124;43m\"\u001b[39;49m\u001b[38;5;124;43msemantic-kernel\u001b[39;49m\u001b[38;5;124;43m\"\u001b[39;49m\u001b[43m)\u001b[49m\u001b[38;5;241m.\u001b[39mversion,\n\u001b[1;32m     19\u001b[0m         \u001b[38;5;124m\"\u001b[39m\u001b[38;5;124murl\u001b[39m\u001b[38;5;124m\"\u001b[39m: \u001b[38;5;124m\"\u001b[39m\u001b[38;5;124m\"\u001b[39m,\n\u001b[1;32m     20\u001b[0m     }\n\u001b[1;32m     21\u001b[0m     \u001b[38;5;28;01mif\u001b[39;00m IS_TELEMETRY_ENABLED\n\u001b[1;32m     22\u001b[0m     \u001b[38;5;28;01melse\u001b[39;00m \u001b[38;5;28;01mNone\u001b[39;00m\n\u001b[1;32m     23\u001b[0m )\n",
      "File \u001b[0;32m~/miniconda3/lib/python3.9/site-packages/pkg_resources/__init__.py:477\u001b[0m, in \u001b[0;36mget_distribution\u001b[0;34m(dist)\u001b[0m\n\u001b[1;32m    475\u001b[0m     dist \u001b[38;5;241m=\u001b[39m Requirement\u001b[38;5;241m.\u001b[39mparse(dist)\n\u001b[1;32m    476\u001b[0m \u001b[38;5;28;01mif\u001b[39;00m \u001b[38;5;28misinstance\u001b[39m(dist, Requirement):\n\u001b[0;32m--> 477\u001b[0m     dist \u001b[38;5;241m=\u001b[39m \u001b[43mget_provider\u001b[49m\u001b[43m(\u001b[49m\u001b[43mdist\u001b[49m\u001b[43m)\u001b[49m\n\u001b[1;32m    478\u001b[0m \u001b[38;5;28;01mif\u001b[39;00m \u001b[38;5;129;01mnot\u001b[39;00m \u001b[38;5;28misinstance\u001b[39m(dist, Distribution):\n\u001b[1;32m    479\u001b[0m     \u001b[38;5;28;01mraise\u001b[39;00m \u001b[38;5;167;01mTypeError\u001b[39;00m(\u001b[38;5;124m\"\u001b[39m\u001b[38;5;124mExpected string, Requirement, or Distribution\u001b[39m\u001b[38;5;124m\"\u001b[39m, dist)\n",
      "File \u001b[0;32m~/miniconda3/lib/python3.9/site-packages/pkg_resources/__init__.py:353\u001b[0m, in \u001b[0;36mget_provider\u001b[0;34m(moduleOrReq)\u001b[0m\n\u001b[1;32m    351\u001b[0m \u001b[38;5;250m\u001b[39m\u001b[38;5;124;03m\"\"\"Return an IResourceProvider for the named module or requirement\"\"\"\u001b[39;00m\n\u001b[1;32m    352\u001b[0m \u001b[38;5;28;01mif\u001b[39;00m \u001b[38;5;28misinstance\u001b[39m(moduleOrReq, Requirement):\n\u001b[0;32m--> 353\u001b[0m     \u001b[38;5;28;01mreturn\u001b[39;00m working_set\u001b[38;5;241m.\u001b[39mfind(moduleOrReq) \u001b[38;5;129;01mor\u001b[39;00m \u001b[43mrequire\u001b[49m\u001b[43m(\u001b[49m\u001b[38;5;28;43mstr\u001b[39;49m\u001b[43m(\u001b[49m\u001b[43mmoduleOrReq\u001b[49m\u001b[43m)\u001b[49m\u001b[43m)\u001b[49m[\u001b[38;5;241m0\u001b[39m]\n\u001b[1;32m    354\u001b[0m \u001b[38;5;28;01mtry\u001b[39;00m:\n\u001b[1;32m    355\u001b[0m     module \u001b[38;5;241m=\u001b[39m sys\u001b[38;5;241m.\u001b[39mmodules[moduleOrReq]\n",
      "File \u001b[0;32m~/miniconda3/lib/python3.9/site-packages/pkg_resources/__init__.py:897\u001b[0m, in \u001b[0;36mWorkingSet.require\u001b[0;34m(self, *requirements)\u001b[0m\n\u001b[1;32m    888\u001b[0m \u001b[38;5;28;01mdef\u001b[39;00m \u001b[38;5;21mrequire\u001b[39m(\u001b[38;5;28mself\u001b[39m, \u001b[38;5;241m*\u001b[39mrequirements):\n\u001b[1;32m    889\u001b[0m \u001b[38;5;250m    \u001b[39m\u001b[38;5;124;03m\"\"\"Ensure that distributions matching `requirements` are activated\u001b[39;00m\n\u001b[1;32m    890\u001b[0m \n\u001b[1;32m    891\u001b[0m \u001b[38;5;124;03m    `requirements` must be a string or a (possibly-nested) sequence\u001b[39;00m\n\u001b[0;32m   (...)\u001b[0m\n\u001b[1;32m    895\u001b[0m \u001b[38;5;124;03m    included, even if they were already activated in this working set.\u001b[39;00m\n\u001b[1;32m    896\u001b[0m \u001b[38;5;124;03m    \"\"\"\u001b[39;00m\n\u001b[0;32m--> 897\u001b[0m     needed \u001b[38;5;241m=\u001b[39m \u001b[38;5;28;43mself\u001b[39;49m\u001b[38;5;241;43m.\u001b[39;49m\u001b[43mresolve\u001b[49m\u001b[43m(\u001b[49m\u001b[43mparse_requirements\u001b[49m\u001b[43m(\u001b[49m\u001b[43mrequirements\u001b[49m\u001b[43m)\u001b[49m\u001b[43m)\u001b[49m\n\u001b[1;32m    899\u001b[0m     \u001b[38;5;28;01mfor\u001b[39;00m dist \u001b[38;5;129;01min\u001b[39;00m needed:\n\u001b[1;32m    900\u001b[0m         \u001b[38;5;28mself\u001b[39m\u001b[38;5;241m.\u001b[39madd(dist)\n",
      "File \u001b[0;32m~/miniconda3/lib/python3.9/site-packages/pkg_resources/__init__.py:788\u001b[0m, in \u001b[0;36mWorkingSet.resolve\u001b[0;34m(self, requirements, env, installer, replace_conflicting, extras)\u001b[0m\n\u001b[1;32m    785\u001b[0m \u001b[38;5;28;01mif\u001b[39;00m dist \u001b[38;5;129;01mnot\u001b[39;00m \u001b[38;5;129;01min\u001b[39;00m req:\n\u001b[1;32m    786\u001b[0m     \u001b[38;5;66;03m# Oops, the \"best\" so far conflicts with a dependency\u001b[39;00m\n\u001b[1;32m    787\u001b[0m     dependent_req \u001b[38;5;241m=\u001b[39m required_by[req]\n\u001b[0;32m--> 788\u001b[0m     \u001b[38;5;28;01mraise\u001b[39;00m VersionConflict(dist, req)\u001b[38;5;241m.\u001b[39mwith_context(dependent_req)\n\u001b[1;32m    790\u001b[0m \u001b[38;5;66;03m# push the new requirements onto the stack\u001b[39;00m\n\u001b[1;32m    791\u001b[0m new_requirements \u001b[38;5;241m=\u001b[39m dist\u001b[38;5;241m.\u001b[39mrequires(req\u001b[38;5;241m.\u001b[39mextras)[::\u001b[38;5;241m-\u001b[39m\u001b[38;5;241m1\u001b[39m]\n",
      "\u001b[0;31mContextualVersionConflict\u001b[0m: (six 1.12.0 (/Users/rdua/miniconda3/lib/python3.9/site-packages), Requirement.parse('six~=1.15'), {'prance'})"
     ]
    }
   ],
   "source": [
    "from semantic_kernel.connectors.ai.open_ai import OpenAIChatCompletion\n",
    "\n",
    "api_key, org_id = sk.openai_settings_from_dot_env()\n",
    "\n",
    "kernel.add_chat_service(\"chat-gpt\", OpenAIChatCompletion(\"gpt-3.5-turbo\", api_key, org_id))"
   ]
  },
  {
   "cell_type": "markdown",
   "metadata": {},
   "source": [
    "## Option 2: using Azure OpenAI\n",
    "\n",
    "**Step 2**: Add your [Azure Open AI Service key](https://learn.microsoft.com/azure/cognitive-services/openai/quickstart?pivots=programming-language-studio) settings to a `.env` file in the same folder:\n",
    "\n",
    "```\n",
    "AZURE_OPENAI_API_KEY=\"...\"\n",
    "AZURE_OPENAI_ENDPOINT=\"https://...\"\n",
    "AZURE_OPENAI_DEPLOYMENT_NAME=\"...\"\n",
    "```\n",
    "\n",
    "and add Azure OpenAI Chat Completion to the kernel:"
   ]
  },
  {
   "cell_type": "code",
   "execution_count": null,
   "metadata": {},
   "outputs": [],
   "source": [
    "from semantic_kernel.connectors.ai.open_ai import AzureChatCompletion\n",
    "\n",
    "deployment, api_key, endpoint = sk.azure_openai_settings_from_dot_env()\n",
    "\n",
    "kernel.add_chat_service(\"chat_completion\", AzureChatCompletion(deployment, endpoint, api_key))\n"
   ]
  },
  {
   "cell_type": "markdown",
   "metadata": {},
   "source": [
    "# Run a Semantic Function\n",
    "\n",
    "**Step 3**: Load a Skill and run a semantic function:"
   ]
  },
  {
   "cell_type": "code",
   "execution_count": null,
   "metadata": {},
   "outputs": [],
   "source": [
    "skill = kernel.import_semantic_skill_from_directory(\"../../samples/skills\", \"FunSkill\")\n",
    "joke_function = skill[\"Joke\"]\n",
    "\n",
    "print(joke_function(\"time travel to dinosaur age\"))"
   ]
  }
 ],
 "metadata": {
  "kernelspec": {
   "display_name": "Python 3",
   "language": "python",
   "name": "python3"
  },
  "language_info": {
   "codemirror_mode": {
    "name": "ipython",
    "version": 3
   },
   "file_extension": ".py",
   "mimetype": "text/x-python",
   "name": "python",
   "nbconvert_exporter": "python",
   "pygments_lexer": "ipython3",
   "version": "3.9.12"
  }
 },
 "nbformat": 4,
 "nbformat_minor": 2
}
