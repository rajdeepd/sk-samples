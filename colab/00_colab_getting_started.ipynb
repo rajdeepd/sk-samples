{
  "cells": [
    {
      "cell_type": "markdown",
      "metadata": {
        "id": "trpsxwE0w_1J"
      },
      "source": [
        "# Setup\n",
        "\n",
        "**Step 1**: Import Semantic Kernel SDK from pypi.org"
      ]
    },
    {
      "cell_type": "code",
      "execution_count": 1,
      "metadata": {
        "id": "SI6itQl-w_1L"
      },
      "outputs": [],
      "source": [
        "#!python -m pip install semantic-kernel==0.3.15.dev0"
      ]
    },
    {
      "cell_type": "code",
      "source": [
        "#!pip install numpy==1.24.2"
      ],
      "metadata": {
        "id": "IryRzTKQxCZf"
      },
      "execution_count": 2,
      "outputs": []
    },
    {
      "cell_type": "code",
      "execution_count": 3,
      "metadata": {
        "id": "oQpvW5LBw_1M"
      },
      "outputs": [],
      "source": [
        "import semantic_kernel as sk\n",
        "\n",
        "kernel = sk.Kernel()"
      ]
    },
    {
      "cell_type": "markdown",
      "metadata": {
        "id": "Pt5URW0yw_1M"
      },
      "source": [
        "## Option 1: using OpenAI\n",
        "\n",
        "**Step 2**: Add your [OpenAI Key](https://openai.com/product/) key to a `.env` file in the same folder (org Id only if you have multiple orgs):\n",
        "\n",
        "```\n",
        "OPENAI_API_KEY=\"sk-...\"\n",
        "OPENAI_ORG_ID=\"\"\n",
        "```\n",
        "\n",
        "and add OpenAI Chat Completion to the kernel:"
      ]
    },
    {
      "cell_type": "code",
      "execution_count": 5,
      "metadata": {
        "colab": {
          "base_uri": "https://localhost:8080/"
        },
        "id": "Fq1vPm0jw_1M",
        "outputId": "a5ccd737-bfb4-447c-8434-42bec54eabca"
      },
      "outputs": [
        {
          "output_type": "execute_result",
          "data": {
            "text/plain": [
              "<semantic_kernel.kernel.Kernel at 0x7bf88efd46a0>"
            ]
          },
          "metadata": {},
          "execution_count": 5
        }
      ],
      "source": [
        "from semantic_kernel.connectors.ai.open_ai import OpenAIChatCompletion\n",
        "\n",
        "api_key, org_id = \"sk-\",\"\"\n",
        "\n",
        "kernel.add_chat_service(\"chat-gpt\", OpenAIChatCompletion(\"gpt-3.5-turbo\", api_key, org_id))"
      ]
    },
    {
      "cell_type": "markdown",
      "metadata": {
        "id": "lM6veDEBw_1M"
      },
      "source": [
        "## Option 2: using Azure OpenAI\n",
        "\n",
        "**Step 2**: Add your [Azure Open AI Service key](https://learn.microsoft.com/azure/cognitive-services/openai/quickstart?pivots=programming-language-studio) settings to a `.env` file in the same folder:\n",
        "\n",
        "```\n",
        "AZURE_OPENAI_API_KEY=\"...\"\n",
        "AZURE_OPENAI_ENDPOINT=\"https://...\"\n",
        "AZURE_OPENAI_DEPLOYMENT_NAME=\"...\"\n",
        "```\n",
        "\n",
        "and add Azure OpenAI Chat Completion to the kernel:"
      ]
    },
    {
      "cell_type": "code",
      "execution_count": 7,
      "metadata": {
        "id": "CZgtaCrAw_1M"
      },
      "outputs": [],
      "source": [
        "#from semantic_kernel.connectors.ai.open_ai import AzureChatCompletion\n",
        "\n",
        "#deployment, api_key, endpoint = sk.azure_openai_settings_from_dot_env()\n",
        "\n",
        "#kernel.add_chat_service(\"chat_completion\", AzureChatCompletion(deployment, endpoint, api_key))\n"
      ]
    },
    {
      "cell_type": "markdown",
      "metadata": {
        "id": "XBvgfsjjw_1M"
      },
      "source": [
        "# Run a Semantic Function\n",
        "\n",
        "**Step 3**: Load a Skill and run a semantic function:"
      ]
    },
    {
      "cell_type": "code",
      "source": [
        "from google.colab import drive\n",
        "drive.mount('/content/drive')"
      ],
      "metadata": {
        "colab": {
          "base_uri": "https://localhost:8080/"
        },
        "id": "OfHsH8QNyCWY",
        "outputId": "a87ad446-9980-4ec2-d0a0-c42ddf634361"
      },
      "execution_count": 8,
      "outputs": [
        {
          "output_type": "stream",
          "name": "stdout",
          "text": [
            "Mounted at /content/drive\n"
          ]
        }
      ]
    },
    {
      "cell_type": "code",
      "execution_count": 10,
      "metadata": {
        "colab": {
          "base_uri": "https://localhost:8080/"
        },
        "id": "WDic3W92w_1M",
        "outputId": "4fb5db09-3a17-46d2-d6bc-99f9398d1d10"
      },
      "outputs": [
        {
          "output_type": "stream",
          "name": "stdout",
          "text": [
            "Why did the time traveler bring a ladder to the dinosaur age?\n",
            "\n",
            "Because he wanted to reach new heights in history!\n"
          ]
        }
      ],
      "source": [
        "skill = kernel.import_semantic_skill_from_directory(\"/content/drive/MyDrive/skills\", \"FunSkill\")\n",
        "joke_function = skill[\"Joke\"]\n",
        "\n",
        "print(joke_function(\"time travel to dinosaur age\"))"
      ]
    }
  ],
  "metadata": {
    "kernelspec": {
      "display_name": "Python 3 (ipykernel)",
      "language": "python",
      "name": "python3"
    },
    "language_info": {
      "codemirror_mode": {
        "name": "ipython",
        "version": 3
      },
      "file_extension": ".py",
      "mimetype": "text/x-python",
      "name": "python",
      "nbconvert_exporter": "python",
      "pygments_lexer": "ipython3",
      "version": "3.10.10"
    },
    "colab": {
      "provenance": []
    }
  },
  "nbformat": 4,
  "nbformat_minor": 0
}
