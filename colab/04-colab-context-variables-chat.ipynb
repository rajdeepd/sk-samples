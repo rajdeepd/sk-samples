{
  "cells": [
    {
      "cell_type": "markdown",
      "id": "fde98ddf",
      "metadata": {
        "id": "fde98ddf"
      },
      "source": [
        "# Creating a basic chat experience with context variables\n",
        "\n",
        "In this example, we show how you can build a simple chat bot by sending and updating context with your requests.\n",
        "\n",
        "We introduce the Context Variables object which in this demo functions similarly as a key-value store that you can use when running the kernel.\n",
        "\n",
        "The context is local (i.e. in your computer's RAM) and not persisted anywhere beyond the life of this Jupyter session.\n",
        "\n",
        "In future examples, we will show how to persist the context on disk so that you can bring it into your applications.  \n",
        "\n",
        "In this chat scenario, as the user talks back and forth with the bot, the context gets populated with the history of the conversation. During each new run of the kernel, the context can provide the AI with its variables' content."
      ]
    },
    {
      "cell_type": "code",
      "execution_count": 1,
      "id": "92f69b34",
      "metadata": {
        "id": "92f69b34",
        "outputId": "4bb1af99-7f5d-4975-b304-4cb16e3ed7b9",
        "colab": {
          "base_uri": "https://localhost:8080/"
        }
      },
      "outputs": [
        {
          "output_type": "stream",
          "name": "stdout",
          "text": [
            "Collecting semantic-kernel==0.3.15.dev0\n",
            "  Downloading semantic_kernel-0.3.15.dev0-py3-none-any.whl (200 kB)\n",
            "\u001b[2K     \u001b[90m━━━━━━━━━━━━━━━━━━━━━━━━━━━━━━━━━━━━━━━━\u001b[0m \u001b[32m200.7/200.7 kB\u001b[0m \u001b[31m2.1 MB/s\u001b[0m eta \u001b[36m0:00:00\u001b[0m\n",
            "\u001b[?25hCollecting numpy==1.24.2\n",
            "  Downloading numpy-1.24.2-cp310-cp310-manylinux_2_17_x86_64.manylinux2014_x86_64.whl (17.3 MB)\n",
            "\u001b[2K     \u001b[90m━━━━━━━━━━━━━━━━━━━━━━━━━━━━━━━━━━━━━━━━\u001b[0m \u001b[32m17.3/17.3 MB\u001b[0m \u001b[31m48.0 MB/s\u001b[0m eta \u001b[36m0:00:00\u001b[0m\n",
            "\u001b[?25hCollecting aiofiles<24.0.0,>=23.1.0 (from semantic-kernel==0.3.15.dev0)\n",
            "  Downloading aiofiles-23.2.1-py3-none-any.whl (15 kB)\n",
            "Collecting motor<4.0.0,>=3.3.1 (from semantic-kernel==0.3.15.dev0)\n",
            "  Downloading motor-3.3.2-py3-none-any.whl (70 kB)\n",
            "\u001b[2K     \u001b[90m━━━━━━━━━━━━━━━━━━━━━━━━━━━━━━━━━━━━━━━━\u001b[0m \u001b[32m70.6/70.6 kB\u001b[0m \u001b[31m7.3 MB/s\u001b[0m eta \u001b[36m0:00:00\u001b[0m\n",
            "\u001b[?25hCollecting openai<0.29,>=0.27 (from semantic-kernel==0.3.15.dev0)\n",
            "  Downloading openai-0.28.1-py3-none-any.whl (76 kB)\n",
            "\u001b[2K     \u001b[90m━━━━━━━━━━━━━━━━━━━━━━━━━━━━━━━━━━━━━━━━\u001b[0m \u001b[32m77.0/77.0 kB\u001b[0m \u001b[31m6.3 MB/s\u001b[0m eta \u001b[36m0:00:00\u001b[0m\n",
            "\u001b[?25hCollecting openapi_core<0.19.0,>=0.18.0 (from semantic-kernel==0.3.15.dev0)\n",
            "  Downloading openapi_core-0.18.2-py3-none-any.whl (82 kB)\n",
            "\u001b[2K     \u001b[90m━━━━━━━━━━━━━━━━━━━━━━━━━━━━━━━━━━━━━━━━\u001b[0m \u001b[32m82.4/82.4 kB\u001b[0m \u001b[31m9.1 MB/s\u001b[0m eta \u001b[36m0:00:00\u001b[0m\n",
            "\u001b[?25hCollecting prance<24.0.0.0,>=23.6.21.0 (from semantic-kernel==0.3.15.dev0)\n",
            "  Downloading prance-23.6.21.0-py3-none-any.whl (36 kB)\n",
            "Requirement already satisfied: pydantic<2 in /usr/local/lib/python3.10/dist-packages (from semantic-kernel==0.3.15.dev0) (1.10.13)\n",
            "Collecting python-dotenv==1.0.0 (from semantic-kernel==0.3.15.dev0)\n",
            "  Downloading python_dotenv-1.0.0-py3-none-any.whl (19 kB)\n",
            "Requirement already satisfied: regex<2024.0.0,>=2023.6.3 in /usr/local/lib/python3.10/dist-packages (from semantic-kernel==0.3.15.dev0) (2023.6.3)\n",
            "Collecting pymongo<5,>=4.5 (from motor<4.0.0,>=3.3.1->semantic-kernel==0.3.15.dev0)\n",
            "  Downloading pymongo-4.6.1-cp310-cp310-manylinux_2_17_x86_64.manylinux2014_x86_64.whl (677 kB)\n",
            "\u001b[2K     \u001b[90m━━━━━━━━━━━━━━━━━━━━━━━━━━━━━━━━━━━━━━━━\u001b[0m \u001b[32m677.1/677.1 kB\u001b[0m \u001b[31m43.0 MB/s\u001b[0m eta \u001b[36m0:00:00\u001b[0m\n",
            "\u001b[?25hRequirement already satisfied: requests>=2.20 in /usr/local/lib/python3.10/dist-packages (from openai<0.29,>=0.27->semantic-kernel==0.3.15.dev0) (2.31.0)\n",
            "Requirement already satisfied: tqdm in /usr/local/lib/python3.10/dist-packages (from openai<0.29,>=0.27->semantic-kernel==0.3.15.dev0) (4.66.1)\n",
            "Requirement already satisfied: aiohttp in /usr/local/lib/python3.10/dist-packages (from openai<0.29,>=0.27->semantic-kernel==0.3.15.dev0) (3.9.1)\n",
            "Collecting asgiref<4.0.0,>=3.6.0 (from openapi_core<0.19.0,>=0.18.0->semantic-kernel==0.3.15.dev0)\n",
            "  Downloading asgiref-3.7.2-py3-none-any.whl (24 kB)\n",
            "Collecting isodate (from openapi_core<0.19.0,>=0.18.0->semantic-kernel==0.3.15.dev0)\n",
            "  Downloading isodate-0.6.1-py2.py3-none-any.whl (41 kB)\n",
            "\u001b[2K     \u001b[90m━━━━━━━━━━━━━━━━━━━━━━━━━━━━━━━━━━━━━━━━\u001b[0m \u001b[32m41.7/41.7 kB\u001b[0m \u001b[31m5.0 MB/s\u001b[0m eta \u001b[36m0:00:00\u001b[0m\n",
            "\u001b[?25hRequirement already satisfied: jsonschema<5.0.0,>=4.18.0 in /usr/local/lib/python3.10/dist-packages (from openapi_core<0.19.0,>=0.18.0->semantic-kernel==0.3.15.dev0) (4.19.2)\n",
            "Collecting jsonschema-spec<0.3.0,>=0.2.3 (from openapi_core<0.19.0,>=0.18.0->semantic-kernel==0.3.15.dev0)\n",
            "  Downloading jsonschema_spec-0.2.4-py3-none-any.whl (14 kB)\n",
            "Requirement already satisfied: more-itertools in /usr/local/lib/python3.10/dist-packages (from openapi_core<0.19.0,>=0.18.0->semantic-kernel==0.3.15.dev0) (10.1.0)\n",
            "Collecting openapi-schema-validator<0.7.0,>=0.6.0 (from openapi_core<0.19.0,>=0.18.0->semantic-kernel==0.3.15.dev0)\n",
            "  Downloading openapi_schema_validator-0.6.2-py3-none-any.whl (8.8 kB)\n",
            "Collecting openapi-spec-validator<0.8.0,>=0.7.1 (from openapi_core<0.19.0,>=0.18.0->semantic-kernel==0.3.15.dev0)\n",
            "  Downloading openapi_spec_validator-0.7.1-py3-none-any.whl (38 kB)\n",
            "Collecting parse (from openapi_core<0.19.0,>=0.18.0->semantic-kernel==0.3.15.dev0)\n",
            "  Downloading parse-1.20.0-py2.py3-none-any.whl (19 kB)\n",
            "Requirement already satisfied: werkzeug in /usr/local/lib/python3.10/dist-packages (from openapi_core<0.19.0,>=0.18.0->semantic-kernel==0.3.15.dev0) (3.0.1)\n",
            "Requirement already satisfied: chardet>=3.0 in /usr/local/lib/python3.10/dist-packages (from prance<24.0.0.0,>=23.6.21.0->semantic-kernel==0.3.15.dev0) (5.2.0)\n",
            "Collecting ruamel.yaml>=0.17.10 (from prance<24.0.0.0,>=23.6.21.0->semantic-kernel==0.3.15.dev0)\n",
            "  Downloading ruamel.yaml-0.18.5-py3-none-any.whl (116 kB)\n",
            "\u001b[2K     \u001b[90m━━━━━━━━━━━━━━━━━━━━━━━━━━━━━━━━━━━━━━━━\u001b[0m \u001b[32m116.4/116.4 kB\u001b[0m \u001b[31m12.4 MB/s\u001b[0m eta \u001b[36m0:00:00\u001b[0m\n",
            "\u001b[?25hRequirement already satisfied: six~=1.15 in /usr/local/lib/python3.10/dist-packages (from prance<24.0.0.0,>=23.6.21.0->semantic-kernel==0.3.15.dev0) (1.16.0)\n",
            "Requirement already satisfied: packaging>=21.3 in /usr/local/lib/python3.10/dist-packages (from prance<24.0.0.0,>=23.6.21.0->semantic-kernel==0.3.15.dev0) (23.2)\n",
            "Requirement already satisfied: typing-extensions>=4.2.0 in /usr/local/lib/python3.10/dist-packages (from pydantic<2->semantic-kernel==0.3.15.dev0) (4.5.0)\n",
            "Requirement already satisfied: attrs>=22.2.0 in /usr/local/lib/python3.10/dist-packages (from jsonschema<5.0.0,>=4.18.0->openapi_core<0.19.0,>=0.18.0->semantic-kernel==0.3.15.dev0) (23.1.0)\n",
            "Requirement already satisfied: jsonschema-specifications>=2023.03.6 in /usr/local/lib/python3.10/dist-packages (from jsonschema<5.0.0,>=4.18.0->openapi_core<0.19.0,>=0.18.0->semantic-kernel==0.3.15.dev0) (2023.11.2)\n",
            "Requirement already satisfied: referencing>=0.28.4 in /usr/local/lib/python3.10/dist-packages (from jsonschema<5.0.0,>=4.18.0->openapi_core<0.19.0,>=0.18.0->semantic-kernel==0.3.15.dev0) (0.31.1)\n",
            "Requirement already satisfied: rpds-py>=0.7.1 in /usr/local/lib/python3.10/dist-packages (from jsonschema<5.0.0,>=4.18.0->openapi_core<0.19.0,>=0.18.0->semantic-kernel==0.3.15.dev0) (0.13.2)\n",
            "Requirement already satisfied: PyYAML>=5.1 in /usr/local/lib/python3.10/dist-packages (from jsonschema-spec<0.3.0,>=0.2.3->openapi_core<0.19.0,>=0.18.0->semantic-kernel==0.3.15.dev0) (6.0.1)\n",
            "Collecting pathable<0.5.0,>=0.4.1 (from jsonschema-spec<0.3.0,>=0.2.3->openapi_core<0.19.0,>=0.18.0->semantic-kernel==0.3.15.dev0)\n",
            "  Downloading pathable-0.4.3-py3-none-any.whl (9.6 kB)\n",
            "Collecting referencing>=0.28.4 (from jsonschema<5.0.0,>=4.18.0->openapi_core<0.19.0,>=0.18.0->semantic-kernel==0.3.15.dev0)\n",
            "  Downloading referencing-0.30.2-py3-none-any.whl (25 kB)\n",
            "Collecting rfc3339-validator (from openapi-schema-validator<0.7.0,>=0.6.0->openapi_core<0.19.0,>=0.18.0->semantic-kernel==0.3.15.dev0)\n",
            "  Downloading rfc3339_validator-0.1.4-py2.py3-none-any.whl (3.5 kB)\n",
            "Collecting jsonschema-path<0.4.0,>=0.3.1 (from openapi-spec-validator<0.8.0,>=0.7.1->openapi_core<0.19.0,>=0.18.0->semantic-kernel==0.3.15.dev0)\n",
            "  Downloading jsonschema_path-0.3.2-py3-none-any.whl (14 kB)\n",
            "Collecting lazy-object-proxy<2.0.0,>=1.7.1 (from openapi-spec-validator<0.8.0,>=0.7.1->openapi_core<0.19.0,>=0.18.0->semantic-kernel==0.3.15.dev0)\n",
            "  Downloading lazy_object_proxy-1.9.0-cp310-cp310-manylinux_2_5_x86_64.manylinux1_x86_64.manylinux_2_17_x86_64.manylinux2014_x86_64.whl (63 kB)\n",
            "\u001b[2K     \u001b[90m━━━━━━━━━━━━━━━━━━━━━━━━━━━━━━━━━━━━━━━━\u001b[0m \u001b[32m63.3/63.3 kB\u001b[0m \u001b[31m5.9 MB/s\u001b[0m eta \u001b[36m0:00:00\u001b[0m\n",
            "\u001b[?25hCollecting dnspython<3.0.0,>=1.16.0 (from pymongo<5,>=4.5->motor<4.0.0,>=3.3.1->semantic-kernel==0.3.15.dev0)\n",
            "  Downloading dnspython-2.4.2-py3-none-any.whl (300 kB)\n",
            "\u001b[2K     \u001b[90m━━━━━━━━━━━━━━━━━━━━━━━━━━━━━━━━━━━━━━━━\u001b[0m \u001b[32m300.4/300.4 kB\u001b[0m \u001b[31m29.7 MB/s\u001b[0m eta \u001b[36m0:00:00\u001b[0m\n",
            "\u001b[?25hRequirement already satisfied: charset-normalizer<4,>=2 in /usr/local/lib/python3.10/dist-packages (from requests>=2.20->openai<0.29,>=0.27->semantic-kernel==0.3.15.dev0) (3.3.2)\n",
            "Requirement already satisfied: idna<4,>=2.5 in /usr/local/lib/python3.10/dist-packages (from requests>=2.20->openai<0.29,>=0.27->semantic-kernel==0.3.15.dev0) (3.6)\n",
            "Requirement already satisfied: urllib3<3,>=1.21.1 in /usr/local/lib/python3.10/dist-packages (from requests>=2.20->openai<0.29,>=0.27->semantic-kernel==0.3.15.dev0) (2.0.7)\n",
            "Requirement already satisfied: certifi>=2017.4.17 in /usr/local/lib/python3.10/dist-packages (from requests>=2.20->openai<0.29,>=0.27->semantic-kernel==0.3.15.dev0) (2023.11.17)\n",
            "Collecting ruamel.yaml.clib>=0.2.7 (from ruamel.yaml>=0.17.10->prance<24.0.0.0,>=23.6.21.0->semantic-kernel==0.3.15.dev0)\n",
            "  Downloading ruamel.yaml.clib-0.2.8-cp310-cp310-manylinux_2_17_x86_64.manylinux2014_x86_64.manylinux_2_24_x86_64.whl (526 kB)\n",
            "\u001b[2K     \u001b[90m━━━━━━━━━━━━━━━━━━━━━━━━━━━━━━━━━━━━━━━━\u001b[0m \u001b[32m526.7/526.7 kB\u001b[0m \u001b[31m42.7 MB/s\u001b[0m eta \u001b[36m0:00:00\u001b[0m\n",
            "\u001b[?25hRequirement already satisfied: multidict<7.0,>=4.5 in /usr/local/lib/python3.10/dist-packages (from aiohttp->openai<0.29,>=0.27->semantic-kernel==0.3.15.dev0) (6.0.4)\n",
            "Requirement already satisfied: yarl<2.0,>=1.0 in /usr/local/lib/python3.10/dist-packages (from aiohttp->openai<0.29,>=0.27->semantic-kernel==0.3.15.dev0) (1.9.3)\n",
            "Requirement already satisfied: frozenlist>=1.1.1 in /usr/local/lib/python3.10/dist-packages (from aiohttp->openai<0.29,>=0.27->semantic-kernel==0.3.15.dev0) (1.4.0)\n",
            "Requirement already satisfied: aiosignal>=1.1.2 in /usr/local/lib/python3.10/dist-packages (from aiohttp->openai<0.29,>=0.27->semantic-kernel==0.3.15.dev0) (1.3.1)\n",
            "Requirement already satisfied: async-timeout<5.0,>=4.0 in /usr/local/lib/python3.10/dist-packages (from aiohttp->openai<0.29,>=0.27->semantic-kernel==0.3.15.dev0) (4.0.3)\n",
            "Requirement already satisfied: MarkupSafe>=2.1.1 in /usr/local/lib/python3.10/dist-packages (from werkzeug->openapi_core<0.19.0,>=0.18.0->semantic-kernel==0.3.15.dev0) (2.1.3)\n",
            "INFO: pip is looking at multiple versions of jsonschema-specifications to determine which version is compatible with other requirements. This could take a while.\n",
            "Collecting jsonschema-specifications>=2023.03.6 (from jsonschema<5.0.0,>=4.18.0->openapi_core<0.19.0,>=0.18.0->semantic-kernel==0.3.15.dev0)\n",
            "  Downloading jsonschema_specifications-2023.11.1-py3-none-any.whl (17 kB)\n",
            "  Downloading jsonschema_specifications-2023.7.1-py3-none-any.whl (17 kB)\n",
            "Installing collected packages: parse, ruamel.yaml.clib, rfc3339-validator, referencing, python-dotenv, pathable, numpy, lazy-object-proxy, isodate, dnspython, asgiref, aiofiles, ruamel.yaml, pymongo, jsonschema-specifications, jsonschema-spec, jsonschema-path, prance, openai, motor, openapi-schema-validator, openapi-spec-validator, openapi_core, semantic-kernel\n",
            "  Attempting uninstall: referencing\n",
            "    Found existing installation: referencing 0.31.1\n",
            "    Uninstalling referencing-0.31.1:\n",
            "      Successfully uninstalled referencing-0.31.1\n",
            "  Attempting uninstall: numpy\n",
            "    Found existing installation: numpy 1.23.5\n",
            "    Uninstalling numpy-1.23.5:\n",
            "      Successfully uninstalled numpy-1.23.5\n",
            "  Attempting uninstall: jsonschema-specifications\n",
            "    Found existing installation: jsonschema-specifications 2023.11.2\n",
            "    Uninstalling jsonschema-specifications-2023.11.2:\n",
            "      Successfully uninstalled jsonschema-specifications-2023.11.2\n",
            "\u001b[31mERROR: pip's dependency resolver does not currently take into account all the packages that are installed. This behaviour is the source of the following dependency conflicts.\n",
            "lida 0.0.10 requires fastapi, which is not installed.\n",
            "lida 0.0.10 requires kaleido, which is not installed.\n",
            "lida 0.0.10 requires python-multipart, which is not installed.\n",
            "lida 0.0.10 requires uvicorn, which is not installed.\n",
            "llmx 0.0.15a0 requires cohere, which is not installed.\n",
            "llmx 0.0.15a0 requires tiktoken, which is not installed.\u001b[0m\u001b[31m\n",
            "\u001b[0mSuccessfully installed aiofiles-23.2.1 asgiref-3.7.2 dnspython-2.4.2 isodate-0.6.1 jsonschema-path-0.3.2 jsonschema-spec-0.2.4 jsonschema-specifications-2023.7.1 lazy-object-proxy-1.9.0 motor-3.3.2 numpy-1.24.2 openai-0.28.1 openapi-schema-validator-0.6.2 openapi-spec-validator-0.7.1 openapi_core-0.18.2 parse-1.20.0 pathable-0.4.3 prance-23.6.21.0 pymongo-4.6.1 python-dotenv-1.0.0 referencing-0.30.2 rfc3339-validator-0.1.4 ruamel.yaml-0.18.5 ruamel.yaml.clib-0.2.8 semantic-kernel-0.3.15.dev0\n"
          ]
        }
      ],
      "source": [
        "!python -m pip install semantic-kernel==0.3.15.dev0 numpy==1.24.2"
      ]
    },
    {
      "cell_type": "code",
      "execution_count": 3,
      "id": "68301108",
      "metadata": {
        "id": "68301108"
      },
      "outputs": [],
      "source": [
        "import semantic_kernel as sk\n",
        "from semantic_kernel.connectors.ai.open_ai import AzureChatCompletion, OpenAIChatCompletion\n",
        "\n",
        "kernel = sk.Kernel()\n",
        "from google.colab import userdata\n",
        "OPENAI_API_KEY = userdata.get('OPENAI_API_KEY')\n",
        "useAzureOpenAI = False\n",
        "\n",
        "# Configure AI service used by the kernel\n",
        "if useAzureOpenAI:\n",
        "    deployment, api_key, endpoint = sk.azure_openai_settings_from_dot_env()\n",
        "    kernel.add_chat_service(\"chat_completion\", AzureChatCompletion(deployment, endpoint, api_key))\n",
        "else:\n",
        "    #api_key, org_id = sk.openai_settings_from_dot_env()\n",
        "    api_key, org_id = OPENAI_API_KEY, \"\"\n",
        "    kernel.add_chat_service(\"chat-gpt\", OpenAIChatCompletion(\"gpt-3.5-turbo\", api_key, org_id))\n"
      ]
    },
    {
      "cell_type": "markdown",
      "id": "7971783d",
      "metadata": {
        "id": "7971783d"
      },
      "source": [
        "Let's define a prompt outlining a dialogue chat bot."
      ]
    },
    {
      "cell_type": "code",
      "execution_count": 4,
      "id": "e84a05fc",
      "metadata": {
        "id": "e84a05fc"
      },
      "outputs": [],
      "source": [
        "sk_prompt = \"\"\"\n",
        "ChatBot can have a conversation with you about any topic.\n",
        "It can give explicit instructions or say 'I don't know' if it does not have an answer.\n",
        "\n",
        "{{$history}}\n",
        "User: {{$user_input}}\n",
        "ChatBot: \"\"\""
      ]
    },
    {
      "cell_type": "markdown",
      "id": "61716b16",
      "metadata": {
        "id": "61716b16"
      },
      "source": [
        "Register your semantic function"
      ]
    },
    {
      "cell_type": "code",
      "execution_count": 5,
      "id": "a3e4b160",
      "metadata": {
        "id": "a3e4b160"
      },
      "outputs": [],
      "source": [
        "chat_function = kernel.create_semantic_function(sk_prompt, \"ChatBot\", max_tokens=2000, temperature=0.7, top_p=0.5)"
      ]
    },
    {
      "cell_type": "markdown",
      "id": "6e8a676f",
      "metadata": {
        "id": "6e8a676f"
      },
      "source": [
        "Initialize your context"
      ]
    },
    {
      "cell_type": "code",
      "execution_count": 6,
      "id": "a4be7394",
      "metadata": {
        "id": "a4be7394"
      },
      "outputs": [],
      "source": [
        "context = kernel.create_new_context()\n",
        "context[\"history\"] = \"\""
      ]
    },
    {
      "cell_type": "markdown",
      "id": "4ce7c497",
      "metadata": {
        "id": "4ce7c497"
      },
      "source": [
        "Chat with the Bot"
      ]
    },
    {
      "cell_type": "code",
      "execution_count": 7,
      "id": "5ec41eb8",
      "metadata": {
        "id": "5ec41eb8",
        "outputId": "989cf914-da27-4cfd-84f4-c36c1e35c6c9",
        "colab": {
          "base_uri": "https://localhost:8080/"
        }
      },
      "outputs": [
        {
          "output_type": "stream",
          "name": "stdout",
          "text": [
            "Hi! I'd be happy to help you with book suggestions. What genre or type of books are you interested in?\n"
          ]
        }
      ],
      "source": [
        "context[\"user_input\"] = \"Hi, I'm looking for book suggestions\"\n",
        "bot_answer = await chat_function.invoke_async(context=context)\n",
        "print(bot_answer)"
      ]
    },
    {
      "cell_type": "markdown",
      "id": "a5b03748",
      "metadata": {
        "id": "a5b03748"
      },
      "source": [
        "Update the history with the output"
      ]
    },
    {
      "cell_type": "code",
      "execution_count": 8,
      "id": "f50f517d",
      "metadata": {
        "id": "f50f517d",
        "outputId": "8261a845-ac75-4a61-bdf3-79d93ba2ac1d",
        "colab": {
          "base_uri": "https://localhost:8080/"
        }
      },
      "outputs": [
        {
          "output_type": "stream",
          "name": "stdout",
          "text": [
            "\n",
            "User: Hi, I'm looking for book suggestions\n",
            "ChatBot: Hi! I'd be happy to help you with book suggestions. What genre or type of books are you interested in?\n",
            "\n"
          ]
        }
      ],
      "source": [
        "context[\"history\"] += f\"\\nUser: {context['user_input']}\\nChatBot: {bot_answer}\\n\"\n",
        "print(context[\"history\"])"
      ]
    },
    {
      "cell_type": "markdown",
      "id": "23a2eb02",
      "metadata": {
        "id": "23a2eb02"
      },
      "source": [
        "Keep Chatting!"
      ]
    },
    {
      "cell_type": "code",
      "execution_count": 9,
      "id": "c59efe45",
      "metadata": {
        "id": "c59efe45"
      },
      "outputs": [],
      "source": [
        "async def chat(input_text: str) -> None:\n",
        "    # Save new message in the context variables\n",
        "    print(f\"User: {input_text}\")\n",
        "    context[\"user_input\"] = input_text\n",
        "\n",
        "    # Process the user message and get an answer\n",
        "    answer = await chat_function.invoke_async(context=context)\n",
        "\n",
        "    # Show the response\n",
        "    print(f\"ChatBot: {answer}\")\n",
        "\n",
        "    # Append the new interaction to the chat history\n",
        "    context[\"history\"] += f\"\\nUser: {input_text}\\nChatBot: {answer}\\n\""
      ]
    },
    {
      "cell_type": "code",
      "execution_count": 11,
      "id": "06ee244e",
      "metadata": {
        "id": "06ee244e",
        "outputId": "101b64ea-08ee-42cd-c22a-a4ce2ee8bdba",
        "colab": {
          "base_uri": "https://localhost:8080/"
        }
      },
      "outputs": [
        {
          "output_type": "stream",
          "name": "stdout",
          "text": [
            "User: I love history and philosophy, I'd like to learn something new about Greece, any suggestion?\n",
            "ChatBot: Error: (<ErrorCodes.ServiceError: 6>, 'OpenAIChatCompletion failed to complete the chat', RateLimitError(message='Your account is not active, please check your billing details on our website.', http_status=429, request_id=None))\n"
          ]
        }
      ],
      "source": [
        "await chat(\"I love history and philosophy, I'd like to learn something new about Greece, any suggestion?\")"
      ]
    },
    {
      "cell_type": "code",
      "execution_count": null,
      "id": "82be4e7e",
      "metadata": {
        "id": "82be4e7e"
      },
      "outputs": [],
      "source": [
        "await chat(\"that sounds interesting, what is it about?\")"
      ]
    },
    {
      "cell_type": "code",
      "execution_count": null,
      "id": "82fe0139",
      "metadata": {
        "id": "82fe0139"
      },
      "outputs": [],
      "source": [
        "await chat(\"if I read that book, what exactly will I learn about Greek history?\")"
      ]
    },
    {
      "cell_type": "code",
      "execution_count": null,
      "id": "55b3a9f2",
      "metadata": {
        "id": "55b3a9f2"
      },
      "outputs": [],
      "source": [
        "await chat(\"could you list some more books I could read about this topic?\")"
      ]
    },
    {
      "cell_type": "markdown",
      "id": "c30bac97",
      "metadata": {
        "id": "c30bac97"
      },
      "source": [
        "After chatting for a while, we have built a growing history, which we are attaching to each prompt and which contains the full conversation. Let's take a look!"
      ]
    },
    {
      "cell_type": "code",
      "execution_count": null,
      "id": "5e34ae55",
      "metadata": {
        "id": "5e34ae55"
      },
      "outputs": [],
      "source": [
        "print(context[\"history\"])"
      ]
    }
  ],
  "metadata": {
    "kernelspec": {
      "display_name": "Python 3 (ipykernel)",
      "language": "python",
      "name": "python3"
    },
    "language_info": {
      "codemirror_mode": {
        "name": "ipython",
        "version": 3
      },
      "file_extension": ".py",
      "mimetype": "text/x-python",
      "name": "python",
      "nbconvert_exporter": "python",
      "pygments_lexer": "ipython3",
      "version": "3.10.10"
    },
    "colab": {
      "provenance": []
    }
  },
  "nbformat": 4,
  "nbformat_minor": 5
}