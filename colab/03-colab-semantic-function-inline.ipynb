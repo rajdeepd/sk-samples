{
  "cells": [
    {
      "cell_type": "markdown",
      "metadata": {
        "id": "view-in-github",
        "colab_type": "text"
      },
      "source": [
        "<a href=\"https://colab.research.google.com/github/rajdeepd/sk-samples/blob/main/colab/03-colab-semantic-function-inline.ipynb\" target=\"_parent\"><img src=\"https://colab.research.google.com/assets/colab-badge.svg\" alt=\"Open In Colab\"/></a>"
      ]
    },
    {
      "cell_type": "markdown",
      "id": "3c93ac5b",
      "metadata": {
        "id": "3c93ac5b"
      },
      "source": [
        "# Running Semantic Functions Inline on Google Colab"
      ]
    },
    {
      "cell_type": "markdown",
      "id": "ebcabb91",
      "metadata": {
        "id": "ebcabb91"
      },
      "source": []
    },
    {
      "cell_type": "markdown",
      "id": "40201641",
      "metadata": {
        "id": "40201641"
      },
      "source": [
        "The [previous notebook](./02-running-prompts-from-file.ipynb)\n",
        "showed how to define a semantic function using a prompt template stored on a file.\n",
        "\n",
        "In this notebook, we'll show how to use the Semantic Kernel to define functions inline with your python code. This can be useful in a few scenarios:\n",
        "\n",
        "* Dynamically generating the prompt using complex rules at runtime\n",
        "* Writing prompts by editing Python code instead of TXT files.\n",
        "* Easily creating demos, like this document\n",
        "\n",
        "Prompt templates are defined using the SK template language, which allows to reference variables and functions. Read [this doc](https://aka.ms/sk/howto/configurefunction) to learn more about the design decisions for prompt templating.\n",
        "\n",
        "For now we'll use only the `{{$input}}` variable, and see more complex templates later.\n",
        "\n",
        "Almost all semantic function prompts have a reference to `{{$input}}`, which is the default way\n",
        "a user can import content from the context variables."
      ]
    },
    {
      "cell_type": "markdown",
      "id": "d90b0c13",
      "metadata": {
        "id": "d90b0c13"
      },
      "source": [
        "Prepare a semantic kernel instance first, loading also the AI service settings defined in the [Setup notebook](00-getting-started.ipynb):"
      ]
    },
    {
      "cell_type": "code",
      "execution_count": 13,
      "id": "1da651d4",
      "metadata": {
        "id": "1da651d4"
      },
      "outputs": [],
      "source": [
        "!python -m pip install semantic-kernel==0.3.15.dev0 --quiet"
      ]
    },
    {
      "cell_type": "code",
      "source": [
        "!pip install numpy==1.24.2"
      ],
      "metadata": {
        "colab": {
          "base_uri": "https://localhost:8080/",
          "height": 365
        },
        "id": "9JIMJV1FW9hV",
        "outputId": "0f787787-ecd8-4d40-9540-97c42c35bc38"
      },
      "id": "9JIMJV1FW9hV",
      "execution_count": 2,
      "outputs": [
        {
          "output_type": "stream",
          "name": "stdout",
          "text": [
            "Collecting numpy==1.24.2\n",
            "  Downloading numpy-1.24.2-cp310-cp310-manylinux_2_17_x86_64.manylinux2014_x86_64.whl (17.3 MB)\n",
            "\u001b[2K     \u001b[90m━━━━━━━━━━━━━━━━━━━━━━━━━━━━━━━━━━━━━━━━\u001b[0m \u001b[32m17.3/17.3 MB\u001b[0m \u001b[31m53.2 MB/s\u001b[0m eta \u001b[36m0:00:00\u001b[0m\n",
            "\u001b[?25hInstalling collected packages: numpy\n",
            "  Attempting uninstall: numpy\n",
            "    Found existing installation: numpy 1.26.2\n",
            "    Uninstalling numpy-1.26.2:\n",
            "      Successfully uninstalled numpy-1.26.2\n",
            "\u001b[31mERROR: pip's dependency resolver does not currently take into account all the packages that are installed. This behaviour is the source of the following dependency conflicts.\n",
            "lida 0.0.10 requires fastapi, which is not installed.\n",
            "lida 0.0.10 requires kaleido, which is not installed.\n",
            "lida 0.0.10 requires python-multipart, which is not installed.\n",
            "lida 0.0.10 requires uvicorn, which is not installed.\u001b[0m\u001b[31m\n",
            "\u001b[0mSuccessfully installed numpy-1.24.2\n"
          ]
        },
        {
          "output_type": "display_data",
          "data": {
            "application/vnd.colab-display-data+json": {
              "pip_warning": {
                "packages": [
                  "numpy"
                ]
              }
            }
          },
          "metadata": {}
        }
      ]
    },
    {
      "cell_type": "code",
      "source": [
        "from google.colab import userdata\n",
        "OPENAI_API_KEY = userdata.get('OPENAI_API_KEY')"
      ],
      "metadata": {
        "id": "8CMWjoDMXgEA"
      },
      "id": "8CMWjoDMXgEA",
      "execution_count": 1,
      "outputs": []
    },
    {
      "cell_type": "code",
      "execution_count": 2,
      "id": "3712b7c3",
      "metadata": {
        "id": "3712b7c3"
      },
      "outputs": [],
      "source": [
        "import semantic_kernel as sk\n",
        "from semantic_kernel.connectors.ai.open_ai import AzureTextCompletion, OpenAITextCompletion\n",
        "\n",
        "kernel = sk.Kernel()\n",
        "\n",
        "useAzureOpenAI = False\n",
        "\n",
        "# Configure AI service used by the kernel\n",
        "if useAzureOpenAI:\n",
        "    deployment, api_key, endpoint = sk.azure_openai_settings_from_dot_env()\n",
        "    kernel.add_text_completion_service(\"dv\", AzureTextCompletion(deployment, endpoint, api_key))\n",
        "else:\n",
        "    #api_key, org_id = sk.openai_settings_from_dot_env()\n",
        "    api_key, org_id  = OPENAI_API_KEY, \"\"\n",
        "    kernel.add_text_completion_service(\"dv\", OpenAITextCompletion(\"text-davinci-003\", api_key, org_id))"
      ]
    },
    {
      "cell_type": "markdown",
      "id": "589733c5",
      "metadata": {
        "id": "589733c5"
      },
      "source": [
        "Let's use a prompt to create a semantic function used to summarize content, allowing for some creativity and a sufficient number of tokens.\n",
        "\n",
        "The function will take in input the text to summarize."
      ]
    },
    {
      "cell_type": "code",
      "execution_count": 6,
      "id": "ae29c207",
      "metadata": {
        "id": "ae29c207"
      },
      "outputs": [],
      "source": [
        "prompt = \"\"\"{{$input}}\n",
        "Summarize the content above in 20 words\n",
        "\"\"\"\n",
        "\n",
        "summarize = kernel.create_semantic_function(prompt, max_tokens=2000, temperature=0.2, top_p=0.5)"
      ]
    },
    {
      "cell_type": "markdown",
      "id": "f26b90c4",
      "metadata": {
        "id": "f26b90c4"
      },
      "source": [
        "Set up some content to summarize, here's an extract about Demo, an ancient Greek poet, taken from Wikipedia (https://en.wikipedia.org/wiki/Demo_(ancient_Greek_poet)."
      ]
    },
    {
      "cell_type": "code",
      "execution_count": 7,
      "id": "314557fb",
      "metadata": {
        "id": "314557fb"
      },
      "outputs": [],
      "source": [
        "input_text = \"\"\"\n",
        "Demo (ancient Greek poet)\n",
        "From Wikipedia, the free encyclopedia\n",
        "Demo or Damo (Greek: Δεμώ, Δαμώ; fl. c. AD 200) was a Greek woman of the Roman period, known for a single epigram, engraved upon the Colossus of Memnon, which bears her name. She speaks of herself therein as a lyric poetess dedicated to the Muses, but nothing is known of her life.[1]\n",
        "Identity\n",
        "Demo was evidently Greek, as her name, a traditional epithet of Demeter, signifies. The name was relatively common in the Hellenistic world, in Egypt and elsewhere, and she cannot be further identified. The date of her visit to the Colossus of Memnon cannot be established with certainty, but internal evidence on the left leg suggests her poem was inscribed there at some point in or after AD 196.[2]\n",
        "Epigram\n",
        "There are a number of graffiti inscriptions on the Colossus of Memnon. Following three epigrams by Julia Balbilla, a fourth epigram, in elegiac couplets, entitled and presumably authored by \"Demo\" or \"Damo\" (the Greek inscription is difficult to read), is a dedication to the Muses.[2] The poem is traditionally published with the works of Balbilla, though the internal evidence suggests a different author.[1]\n",
        "In the poem, Demo explains that Memnon has shown her special respect. In return, Demo offers the gift for poetry, as a gift to the hero. At the end of this epigram, she addresses Memnon, highlighting his divine status by recalling his strength and holiness.[2]\n",
        "Demo, like Julia Balbilla, writes in the artificial and poetic Aeolic dialect. The language indicates she was knowledgeable in Homeric poetry—'bearing a pleasant gift', for example, alludes to the use of that phrase throughout the Iliad and Odyssey.[a][2]\n",
        "\"\"\""
      ]
    },
    {
      "cell_type": "markdown",
      "id": "bf0f2330",
      "metadata": {
        "id": "bf0f2330"
      },
      "source": [
        "...and run the summary function:"
      ]
    },
    {
      "cell_type": "code",
      "execution_count": 8,
      "id": "7b0e3b0c",
      "metadata": {
        "colab": {
          "base_uri": "https://localhost:8080/"
        },
        "id": "7b0e3b0c",
        "outputId": "dd978ec8-c9c4-4d00-bf58-9d12030abd5a"
      },
      "outputs": [
        {
          "output_type": "stream",
          "name": "stdout",
          "text": [
            "Demo was a Greek poetess of the Roman period, known for an epigram inscribed on the Colossus of Memnon. She wrote a poem dedicated to the Muses in the Aeolic dialect, alluding to Homeric poetry.\n"
          ]
        }
      ],
      "source": [
        "# If needed, async is available too: summary = await summarize.invoke_async(input_text)\n",
        "summary = summarize(input_text)\n",
        "\n",
        "print(summary)"
      ]
    },
    {
      "cell_type": "markdown",
      "id": "1c2c1262",
      "metadata": {
        "id": "1c2c1262"
      },
      "source": [
        "# Using ChatCompletion for Semantic Skills"
      ]
    },
    {
      "cell_type": "markdown",
      "id": "29b59b28",
      "metadata": {
        "id": "29b59b28"
      },
      "source": [
        "You can also use chat completion models (like `gpt-35-turbo` and `gpt4`) for creating skills. Normally you would have to tweak the API to accommodate for a system and user role, but SK abstracts that away for you by using `kernel.add_chat_service` and `AzureChatCompletion` or `OpenAIChatCompletion`"
      ]
    },
    {
      "cell_type": "markdown",
      "id": "4777f447",
      "metadata": {
        "id": "4777f447"
      },
      "source": [
        "Here's one more example of how to write an inline Semantic Function that gives a TLDR for a piece of text using a ChatCompletion model\n",
        "\n",
        "\n"
      ]
    },
    {
      "cell_type": "code",
      "execution_count": 11,
      "id": "c5886aeb",
      "metadata": {
        "id": "c5886aeb"
      },
      "outputs": [],
      "source": [
        "import semantic_kernel as sk\n",
        "from semantic_kernel.connectors.ai.open_ai import AzureChatCompletion, OpenAIChatCompletion\n",
        "\n",
        "kernel = sk.Kernel()\n",
        "\n",
        "useAzureOpenAI = False\n",
        "\n",
        "# Configure AI service used by the kernel\n",
        "if useAzureOpenAI:\n",
        "    deployment, api_key, endpoint = sk.azure_openai_settings_from_dot_env()\n",
        "    kernel.add_chat_service(\n",
        "        \"chat_completion\",\n",
        "        AzureChatCompletion(deployment, endpoint, api_key),\n",
        "    )\n",
        "else:\n",
        "    #api_key, org_id = sk.openai_settings_from_dot_env()\n",
        "    api_key, org_id  = OPENAI_API_KEY, \"\"\n",
        "    kernel.add_chat_service(\n",
        "        \"chat-gpt\", OpenAIChatCompletion(\"gpt-4\", api_key, org_id)\n",
        "    )"
      ]
    },
    {
      "cell_type": "code",
      "execution_count": 12,
      "id": "ea8128c8",
      "metadata": {
        "colab": {
          "base_uri": "https://localhost:8080/"
        },
        "id": "ea8128c8",
        "outputId": "dbaebc98-35c1-4604-e13b-c6b5b6e7f0e0"
      },
      "outputs": [
        {
          "output_type": "stream",
          "name": "stdout",
          "text": [
            "Output: Robots can't harm or disobey humans.\n",
            "\n"
          ]
        }
      ],
      "source": [
        "sk_prompt = \"\"\"\n",
        "{{$input}}\n",
        "\n",
        "Give me the TLDR in 5 words or less.\n",
        "\"\"\"\n",
        "\n",
        "text = \"\"\"\n",
        "    1) A robot may not injure a human being or, through inaction,\n",
        "    allow a human being to come to harm.\n",
        "\n",
        "    2) A robot must obey orders given it by human beings except where\n",
        "    such orders would conflict with the First Law.\n",
        "\n",
        "    3) A robot must protect its own existence as long as such protection\n",
        "    does not conflict with the First or Second Law.\n",
        "\"\"\"\n",
        "\n",
        "tldr_function = kernel.create_semantic_function(sk_prompt, max_tokens=200, temperature=0, top_p=0.5)\n",
        "\n",
        "summary = tldr_function(text)\n",
        "\n",
        "print(f\"Output: {summary}\") # Output: Robots must not harm humans."
      ]
    }
  ],
  "metadata": {
    "kernelspec": {
      "display_name": "Python 3 (ipykernel)",
      "language": "python",
      "name": "python3"
    },
    "language_info": {
      "codemirror_mode": {
        "name": "ipython",
        "version": 3
      },
      "file_extension": ".py",
      "mimetype": "text/x-python",
      "name": "python",
      "nbconvert_exporter": "python",
      "pygments_lexer": "ipython3",
      "version": "3.10.10"
    },
    "colab": {
      "provenance": [],
      "include_colab_link": true
    }
  },
  "nbformat": 4,
  "nbformat_minor": 5
}