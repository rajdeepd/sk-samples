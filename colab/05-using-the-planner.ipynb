{
  "cells": [
    {
      "cell_type": "markdown",
      "metadata": {
        "id": "view-in-github",
        "colab_type": "text"
      },
      "source": [
        "<a href=\"https://colab.research.google.com/github/rajdeepd/sk-samples/blob/main/colab/05-using-the-planner.ipynb\" target=\"_parent\"><img src=\"https://colab.research.google.com/assets/colab-badge.svg\" alt=\"Open In Colab\"/></a>"
      ]
    },
    {
      "cell_type": "markdown",
      "id": "99a80181",
      "metadata": {
        "id": "99a80181"
      },
      "source": [
        "# Introduction to the Planner\n",
        "\n",
        "The Planner is one of the fundamental concepts of the Semantic Kernel.\n",
        "\n",
        "It makes use of the collection of native and semantic functions that have been registered to the kernel and using AI, will formulate a plan to execute the given ask.\n",
        "\n",
        "From our own testing, planner works best with more powerful models like `gpt4` but sometimes you might get working plans with cheaper models like `gpt-35-turbo`. We encourage you to implement your own versions of the planner and use different models that fit your user needs.  \n",
        "\n",
        "Read more about planner [here](https://aka.ms/sk/concepts/planner)"
      ]
    },
    {
      "cell_type": "code",
      "execution_count": 2,
      "id": "07eb35d2",
      "metadata": {
        "id": "07eb35d2",
        "outputId": "c87b366e-6e68-4bf7-f51d-8d954c96e32f",
        "colab": {
          "base_uri": "https://localhost:8080/"
        }
      },
      "outputs": [
        {
          "output_type": "stream",
          "name": "stdout",
          "text": [
            "Collecting semantic-kernel==0.3.12.dev0\n",
            "  Downloading semantic_kernel-0.3.12.dev0-py3-none-any.whl (176 kB)\n",
            "\u001b[2K     \u001b[90m━━━━━━━━━━━━━━━━━━━━━━━━━━━━━━━━━━━━━━━━\u001b[0m \u001b[32m176.4/176.4 kB\u001b[0m \u001b[31m1.1 MB/s\u001b[0m eta \u001b[36m0:00:00\u001b[0m\n",
            "\u001b[?25hRequirement already satisfied: aiofiles<24.0.0,>=23.1.0 in /usr/local/lib/python3.10/dist-packages (from semantic-kernel==0.3.12.dev0) (23.2.1)\n",
            "Requirement already satisfied: numpy<2.0.0,>=1.24.2 in /usr/local/lib/python3.10/dist-packages (from semantic-kernel==0.3.12.dev0) (1.26.2)\n",
            "Collecting openai<0.28.0,>=0.27.0 (from semantic-kernel==0.3.12.dev0)\n",
            "  Downloading openai-0.27.10-py3-none-any.whl (76 kB)\n",
            "\u001b[2K     \u001b[90m━━━━━━━━━━━━━━━━━━━━━━━━━━━━━━━━━━━━━━━━\u001b[0m \u001b[32m76.5/76.5 kB\u001b[0m \u001b[31m7.0 MB/s\u001b[0m eta \u001b[36m0:00:00\u001b[0m\n",
            "\u001b[?25hRequirement already satisfied: openapi_core<0.19.0,>=0.18.0 in /usr/local/lib/python3.10/dist-packages (from semantic-kernel==0.3.12.dev0) (0.18.2)\n",
            "Requirement already satisfied: prance<24.0.0.0,>=23.6.21.0 in /usr/local/lib/python3.10/dist-packages (from semantic-kernel==0.3.12.dev0) (23.6.21.0)\n",
            "Collecting pydantic<2 (from semantic-kernel==0.3.12.dev0)\n",
            "  Downloading pydantic-1.10.13-cp310-cp310-manylinux_2_17_x86_64.manylinux2014_x86_64.whl (3.1 MB)\n",
            "\u001b[2K     \u001b[90m━━━━━━━━━━━━━━━━━━━━━━━━━━━━━━━━━━━━━━━━\u001b[0m \u001b[32m3.1/3.1 MB\u001b[0m \u001b[31m16.2 MB/s\u001b[0m eta \u001b[36m0:00:00\u001b[0m\n",
            "\u001b[?25hRequirement already satisfied: python-dotenv==1.0.0 in /usr/local/lib/python3.10/dist-packages (from semantic-kernel==0.3.12.dev0) (1.0.0)\n",
            "Requirement already satisfied: regex<2024.0.0,>=2023.6.3 in /usr/local/lib/python3.10/dist-packages (from semantic-kernel==0.3.12.dev0) (2023.6.3)\n",
            "Requirement already satisfied: requests>=2.20 in /usr/local/lib/python3.10/dist-packages (from openai<0.28.0,>=0.27.0->semantic-kernel==0.3.12.dev0) (2.31.0)\n",
            "Requirement already satisfied: tqdm in /usr/local/lib/python3.10/dist-packages (from openai<0.28.0,>=0.27.0->semantic-kernel==0.3.12.dev0) (4.66.1)\n",
            "Requirement already satisfied: aiohttp in /usr/local/lib/python3.10/dist-packages (from openai<0.28.0,>=0.27.0->semantic-kernel==0.3.12.dev0) (3.9.1)\n",
            "Requirement already satisfied: asgiref<4.0.0,>=3.6.0 in /usr/local/lib/python3.10/dist-packages (from openapi_core<0.19.0,>=0.18.0->semantic-kernel==0.3.12.dev0) (3.7.2)\n",
            "Requirement already satisfied: isodate in /usr/local/lib/python3.10/dist-packages (from openapi_core<0.19.0,>=0.18.0->semantic-kernel==0.3.12.dev0) (0.6.1)\n",
            "Requirement already satisfied: jsonschema<5.0.0,>=4.18.0 in /usr/local/lib/python3.10/dist-packages (from openapi_core<0.19.0,>=0.18.0->semantic-kernel==0.3.12.dev0) (4.19.2)\n",
            "Requirement already satisfied: jsonschema-spec<0.3.0,>=0.2.3 in /usr/local/lib/python3.10/dist-packages (from openapi_core<0.19.0,>=0.18.0->semantic-kernel==0.3.12.dev0) (0.2.4)\n",
            "Requirement already satisfied: more-itertools in /usr/local/lib/python3.10/dist-packages (from openapi_core<0.19.0,>=0.18.0->semantic-kernel==0.3.12.dev0) (10.1.0)\n",
            "Requirement already satisfied: openapi-schema-validator<0.7.0,>=0.6.0 in /usr/local/lib/python3.10/dist-packages (from openapi_core<0.19.0,>=0.18.0->semantic-kernel==0.3.12.dev0) (0.6.2)\n",
            "Requirement already satisfied: openapi-spec-validator<0.8.0,>=0.7.1 in /usr/local/lib/python3.10/dist-packages (from openapi_core<0.19.0,>=0.18.0->semantic-kernel==0.3.12.dev0) (0.7.1)\n",
            "Requirement already satisfied: parse in /usr/local/lib/python3.10/dist-packages (from openapi_core<0.19.0,>=0.18.0->semantic-kernel==0.3.12.dev0) (1.20.0)\n",
            "Requirement already satisfied: werkzeug in /usr/local/lib/python3.10/dist-packages (from openapi_core<0.19.0,>=0.18.0->semantic-kernel==0.3.12.dev0) (3.0.1)\n",
            "Requirement already satisfied: chardet>=3.0 in /usr/local/lib/python3.10/dist-packages (from prance<24.0.0.0,>=23.6.21.0->semantic-kernel==0.3.12.dev0) (5.2.0)\n",
            "Requirement already satisfied: ruamel.yaml>=0.17.10 in /usr/local/lib/python3.10/dist-packages (from prance<24.0.0.0,>=23.6.21.0->semantic-kernel==0.3.12.dev0) (0.18.5)\n",
            "Requirement already satisfied: six~=1.15 in /usr/local/lib/python3.10/dist-packages (from prance<24.0.0.0,>=23.6.21.0->semantic-kernel==0.3.12.dev0) (1.16.0)\n",
            "Requirement already satisfied: packaging>=21.3 in /usr/local/lib/python3.10/dist-packages (from prance<24.0.0.0,>=23.6.21.0->semantic-kernel==0.3.12.dev0) (23.2)\n",
            "Requirement already satisfied: typing-extensions>=4.2.0 in /usr/local/lib/python3.10/dist-packages (from pydantic<2->semantic-kernel==0.3.12.dev0) (4.9.0)\n",
            "Requirement already satisfied: attrs>=22.2.0 in /usr/local/lib/python3.10/dist-packages (from jsonschema<5.0.0,>=4.18.0->openapi_core<0.19.0,>=0.18.0->semantic-kernel==0.3.12.dev0) (23.1.0)\n",
            "Requirement already satisfied: jsonschema-specifications>=2023.03.6 in /usr/local/lib/python3.10/dist-packages (from jsonschema<5.0.0,>=4.18.0->openapi_core<0.19.0,>=0.18.0->semantic-kernel==0.3.12.dev0) (2023.7.1)\n",
            "Requirement already satisfied: referencing>=0.28.4 in /usr/local/lib/python3.10/dist-packages (from jsonschema<5.0.0,>=4.18.0->openapi_core<0.19.0,>=0.18.0->semantic-kernel==0.3.12.dev0) (0.30.2)\n",
            "Requirement already satisfied: rpds-py>=0.7.1 in /usr/local/lib/python3.10/dist-packages (from jsonschema<5.0.0,>=4.18.0->openapi_core<0.19.0,>=0.18.0->semantic-kernel==0.3.12.dev0) (0.13.2)\n",
            "Requirement already satisfied: PyYAML>=5.1 in /usr/local/lib/python3.10/dist-packages (from jsonschema-spec<0.3.0,>=0.2.3->openapi_core<0.19.0,>=0.18.0->semantic-kernel==0.3.12.dev0) (6.0.1)\n",
            "Requirement already satisfied: pathable<0.5.0,>=0.4.1 in /usr/local/lib/python3.10/dist-packages (from jsonschema-spec<0.3.0,>=0.2.3->openapi_core<0.19.0,>=0.18.0->semantic-kernel==0.3.12.dev0) (0.4.3)\n",
            "Requirement already satisfied: rfc3339-validator in /usr/local/lib/python3.10/dist-packages (from openapi-schema-validator<0.7.0,>=0.6.0->openapi_core<0.19.0,>=0.18.0->semantic-kernel==0.3.12.dev0) (0.1.4)\n",
            "Requirement already satisfied: jsonschema-path<0.4.0,>=0.3.1 in /usr/local/lib/python3.10/dist-packages (from openapi-spec-validator<0.8.0,>=0.7.1->openapi_core<0.19.0,>=0.18.0->semantic-kernel==0.3.12.dev0) (0.3.2)\n",
            "Requirement already satisfied: lazy-object-proxy<2.0.0,>=1.7.1 in /usr/local/lib/python3.10/dist-packages (from openapi-spec-validator<0.8.0,>=0.7.1->openapi_core<0.19.0,>=0.18.0->semantic-kernel==0.3.12.dev0) (1.9.0)\n",
            "Requirement already satisfied: charset-normalizer<4,>=2 in /usr/local/lib/python3.10/dist-packages (from requests>=2.20->openai<0.28.0,>=0.27.0->semantic-kernel==0.3.12.dev0) (3.3.2)\n",
            "Requirement already satisfied: idna<4,>=2.5 in /usr/local/lib/python3.10/dist-packages (from requests>=2.20->openai<0.28.0,>=0.27.0->semantic-kernel==0.3.12.dev0) (3.6)\n",
            "Requirement already satisfied: urllib3<3,>=1.21.1 in /usr/local/lib/python3.10/dist-packages (from requests>=2.20->openai<0.28.0,>=0.27.0->semantic-kernel==0.3.12.dev0) (2.0.7)\n",
            "Requirement already satisfied: certifi>=2017.4.17 in /usr/local/lib/python3.10/dist-packages (from requests>=2.20->openai<0.28.0,>=0.27.0->semantic-kernel==0.3.12.dev0) (2023.11.17)\n",
            "Requirement already satisfied: ruamel.yaml.clib>=0.2.7 in /usr/local/lib/python3.10/dist-packages (from ruamel.yaml>=0.17.10->prance<24.0.0.0,>=23.6.21.0->semantic-kernel==0.3.12.dev0) (0.2.8)\n",
            "Requirement already satisfied: multidict<7.0,>=4.5 in /usr/local/lib/python3.10/dist-packages (from aiohttp->openai<0.28.0,>=0.27.0->semantic-kernel==0.3.12.dev0) (6.0.4)\n",
            "Requirement already satisfied: yarl<2.0,>=1.0 in /usr/local/lib/python3.10/dist-packages (from aiohttp->openai<0.28.0,>=0.27.0->semantic-kernel==0.3.12.dev0) (1.9.3)\n",
            "Requirement already satisfied: frozenlist>=1.1.1 in /usr/local/lib/python3.10/dist-packages (from aiohttp->openai<0.28.0,>=0.27.0->semantic-kernel==0.3.12.dev0) (1.4.0)\n",
            "Requirement already satisfied: aiosignal>=1.1.2 in /usr/local/lib/python3.10/dist-packages (from aiohttp->openai<0.28.0,>=0.27.0->semantic-kernel==0.3.12.dev0) (1.3.1)\n",
            "Requirement already satisfied: async-timeout<5.0,>=4.0 in /usr/local/lib/python3.10/dist-packages (from aiohttp->openai<0.28.0,>=0.27.0->semantic-kernel==0.3.12.dev0) (4.0.3)\n",
            "Requirement already satisfied: MarkupSafe>=2.1.1 in /usr/local/lib/python3.10/dist-packages (from werkzeug->openapi_core<0.19.0,>=0.18.0->semantic-kernel==0.3.12.dev0) (2.1.3)\n",
            "Installing collected packages: pydantic, openai, semantic-kernel\n",
            "  Attempting uninstall: pydantic\n",
            "    Found existing installation: pydantic 2.5.2\n",
            "    Uninstalling pydantic-2.5.2:\n",
            "      Successfully uninstalled pydantic-2.5.2\n",
            "  Attempting uninstall: openai\n",
            "    Found existing installation: openai 1.3.8\n",
            "    Uninstalling openai-1.3.8:\n",
            "      Successfully uninstalled openai-1.3.8\n",
            "  Attempting uninstall: semantic-kernel\n",
            "    Found existing installation: semantic-kernel 0.4.1.dev0\n",
            "    Uninstalling semantic-kernel-0.4.1.dev0:\n",
            "      Successfully uninstalled semantic-kernel-0.4.1.dev0\n",
            "\u001b[31mERROR: pip's dependency resolver does not currently take into account all the packages that are installed. This behaviour is the source of the following dependency conflicts.\n",
            "lida 0.0.10 requires fastapi, which is not installed.\n",
            "lida 0.0.10 requires kaleido, which is not installed.\n",
            "lida 0.0.10 requires python-multipart, which is not installed.\n",
            "lida 0.0.10 requires uvicorn, which is not installed.\n",
            "llmx 0.0.15a0 requires cohere, which is not installed.\n",
            "llmx 0.0.15a0 requires tiktoken, which is not installed.\u001b[0m\u001b[31m\n",
            "\u001b[0mSuccessfully installed openai-0.27.10 pydantic-1.10.13 semantic-kernel-0.3.12.dev0\n"
          ]
        }
      ],
      "source": [
        "!python -m pip install semantic-kernel==0.3.12.dev0"
      ]
    },
    {
      "cell_type": "code",
      "execution_count": 4,
      "id": "11e59885",
      "metadata": {
        "id": "11e59885"
      },
      "outputs": [],
      "source": [
        "import semantic_kernel as sk\n",
        "from semantic_kernel.connectors.ai.open_ai import OpenAIChatCompletion, AzureChatCompletion\n",
        "\n",
        "kernel = sk.Kernel()\n",
        "\n",
        "useAzureOpenAI = False\n",
        "from google.colab import userdata\n",
        "OPENAI_API_KEY = userdata.get('OPENAI_API_KEY')\n",
        "\n",
        "# Configure AI backend used by the kernel\n",
        "if useAzureOpenAI:\n",
        "\n",
        "    deployment, api_key, endpoint = sk.azure_openai_settings_from_dot_env()\n",
        "    kernel.add_chat_service(\"gpt-3.5\", AzureChatCompletion(deployment, endpoint, api_key))\n",
        "else:\n",
        "    api_key, org_id = OPENAI_API_KEY,\"\"\n",
        "    kernel.add_chat_service(\"gpt-3.5\", OpenAIChatCompletion(\"gpt-3.5-turbo\", api_key, org_id))"
      ]
    },
    {
      "cell_type": "markdown",
      "id": "4ff28070",
      "metadata": {
        "id": "4ff28070"
      },
      "source": [
        "## It all begins with an ask"
      ]
    },
    {
      "cell_type": "code",
      "execution_count": 5,
      "id": "93bc6103",
      "metadata": {
        "id": "93bc6103"
      },
      "outputs": [],
      "source": [
        "ask = \"\"\"\n",
        "Tomorrow is Valentine's day. I need to come up with a few date ideas. She speaks French so write it in French.\n",
        "Convert the text to uppercase\"\"\""
      ]
    },
    {
      "cell_type": "markdown",
      "id": "a5d86739",
      "metadata": {
        "id": "a5d86739"
      },
      "source": [
        "### Providing skills to the planner\n",
        "The planner needs to know what skills are available to it. Here we'll give it access to the `SummarizeSkill` and `WriterSkill` we have defined on disk. This will include many semantic functions, of which the planner will intelligently choose a subset.\n",
        "\n",
        "You can also include native functions as well. Here we'll add the TextSkill."
      ]
    },
    {
      "cell_type": "code",
      "source": [
        "from google.colab import drive\n",
        "drive.mount('/content/drive')"
      ],
      "metadata": {
        "id": "cDmM_ey52Npg",
        "outputId": "83f319c7-b19f-40cb-fbe8-761411d14b63",
        "colab": {
          "base_uri": "https://localhost:8080/"
        }
      },
      "id": "cDmM_ey52Npg",
      "execution_count": 6,
      "outputs": [
        {
          "output_type": "stream",
          "name": "stdout",
          "text": [
            "Mounted at /content/drive\n"
          ]
        }
      ]
    },
    {
      "cell_type": "code",
      "source": [
        "# note: using skills from the samples folder\n",
        "skills_directory = \"/content/drive/MyDrive/skills\""
      ],
      "metadata": {
        "id": "ZDEiiFcn2Tzi"
      },
      "id": "ZDEiiFcn2Tzi",
      "execution_count": 8,
      "outputs": []
    },
    {
      "cell_type": "code",
      "execution_count": 9,
      "id": "ca0e7604",
      "metadata": {
        "id": "ca0e7604"
      },
      "outputs": [],
      "source": [
        "from semantic_kernel.core_skills.text_skill import TextSkill\n",
        "\n",
        "#skills_directory = \"../../samples/skills/\"\n",
        "summarize_skill = kernel.import_semantic_skill_from_directory(skills_directory, \"SummarizeSkill\")\n",
        "writer_skill = kernel.import_semantic_skill_from_directory(skills_directory, \"WriterSkill\")\n",
        "text_skill = kernel.import_skill(TextSkill(), \"TextSkill\")"
      ]
    },
    {
      "cell_type": "markdown",
      "id": "deff5675",
      "metadata": {
        "id": "deff5675"
      },
      "source": [
        "Define your ASK. What do you want the Kernel to do?"
      ]
    },
    {
      "cell_type": "markdown",
      "id": "eee6fe7b",
      "metadata": {
        "id": "eee6fe7b"
      },
      "source": [
        "# Basic Planner"
      ]
    },
    {
      "cell_type": "markdown",
      "id": "590a22f2",
      "metadata": {
        "id": "590a22f2"
      },
      "source": [
        " Let's start by taking a look at a basic planner. The `BasicPlanner` produces a JSON-based plan that aims to solve the provided ask sequentially and evaluated in order."
      ]
    },
    {
      "cell_type": "code",
      "execution_count": 10,
      "id": "20d35ed0",
      "metadata": {
        "id": "20d35ed0"
      },
      "outputs": [],
      "source": [
        "from semantic_kernel.planning.basic_planner import BasicPlanner\n",
        "planner = BasicPlanner()"
      ]
    },
    {
      "cell_type": "code",
      "execution_count": 11,
      "id": "d5697c09",
      "metadata": {
        "id": "d5697c09"
      },
      "outputs": [],
      "source": [
        "basic_plan = await planner.create_plan_async(ask, kernel)"
      ]
    },
    {
      "cell_type": "code",
      "execution_count": 12,
      "id": "b425ba1e",
      "metadata": {
        "id": "b425ba1e",
        "outputId": "41415c16-5581-4596-ee06-a66478c88ad0",
        "colab": {
          "base_uri": "https://localhost:8080/"
        }
      },
      "outputs": [
        {
          "output_type": "stream",
          "name": "stdout",
          "text": [
            "{\n",
            "    \"input\": \"Valentine's Day Date Ideas\",\n",
            "    \"subtasks\": [\n",
            "        {\"function\": \"WriterSkill.Brainstorm\"},\n",
            "        {\"function\": \"WriterSkill.EmailTo\", \"args\": {\"recipient\": \"significant_other\"}},\n",
            "        {\"function\": \"WriterSkill.Translate\", \"args\": {\"language\": \"French\"}},\n",
            "        {\"function\": \"TextSkill.uppercase\"}\n",
            "    ]\n",
            "}\n"
          ]
        }
      ],
      "source": [
        "print(basic_plan.generated_plan)"
      ]
    },
    {
      "cell_type": "markdown",
      "id": "0f3a48f8",
      "metadata": {
        "id": "0f3a48f8"
      },
      "source": [
        "You can see that the Planner took my ask and converted it into an JSON-based plan detailing how the AI would go about solving this task, making use of the skills that the Kernel has available to it.\n",
        "\n",
        "As you can see in the above plan, the AI has determined which functions to call in order to fulfill the user ask. The output of each step of the plan becomes the input to the next function."
      ]
    },
    {
      "cell_type": "markdown",
      "id": "cd4df0c2",
      "metadata": {
        "id": "cd4df0c2"
      },
      "source": [
        "Let's also define an inline skill and have it be available to the Planner. Be sure to give it a function name and skill name."
      ]
    },
    {
      "cell_type": "code",
      "execution_count": 13,
      "id": "54422ba6",
      "metadata": {
        "id": "54422ba6"
      },
      "outputs": [],
      "source": [
        "sk_prompt = \"\"\"\n",
        "{{$input}}\n",
        "\n",
        "Rewrite the above in the style of Shakespeare.\n",
        "\"\"\"\n",
        "shakespeareFunction = kernel.create_semantic_function(sk_prompt, \"shakespeare\", \"ShakespeareSkill\",\n",
        "                                                      max_tokens=2000, temperature=0.8)"
      ]
    },
    {
      "cell_type": "markdown",
      "id": "5057cf9b",
      "metadata": {
        "id": "5057cf9b"
      },
      "source": [
        "Let's update our ask using this new skill"
      ]
    },
    {
      "cell_type": "code",
      "execution_count": 14,
      "id": "a3161dcf",
      "metadata": {
        "id": "a3161dcf"
      },
      "outputs": [],
      "source": [
        "ask = \"\"\"\n",
        "Tomorrow is Valentine's day. I need to come up with a few date ideas.\n",
        "She likes Shakespeare so write using his style. She speaks French so write it in French.\n",
        "Convert the text to uppercase.\"\"\"\n",
        "\n",
        "new_plan = await planner.create_plan_async(ask, kernel)"
      ]
    },
    {
      "cell_type": "code",
      "execution_count": 15,
      "id": "997462e8",
      "metadata": {
        "id": "997462e8",
        "outputId": "8ed30b73-9553-4f41-ba55-ba01b3f41ec0",
        "colab": {
          "base_uri": "https://localhost:8080/"
        }
      },
      "outputs": [
        {
          "output_type": "stream",
          "name": "stdout",
          "text": [
            "{\n",
            "    \"input\": \"Valentine's Day Date Ideas\",\n",
            "    \"subtasks\": [\n",
            "        {\"function\": \"WriterSkill.Brainstorm\"},\n",
            "        {\"function\": \"ShakespeareSkill.shakespeare\"},\n",
            "        {\"function\": \"WriterSkill.Translate\", \"args\": {\"language\": \"French\"}},\n",
            "        {\"function\": \"TextSkill.uppercase\"}\n",
            "    ]\n",
            "}\n"
          ]
        }
      ],
      "source": [
        "print(new_plan.generated_plan)"
      ]
    },
    {
      "cell_type": "markdown",
      "id": "b67a052e",
      "metadata": {
        "id": "b67a052e"
      },
      "source": [
        "### Executing the plan"
      ]
    },
    {
      "cell_type": "markdown",
      "id": "3b839c90",
      "metadata": {
        "id": "3b839c90"
      },
      "source": [
        "Now that we have a plan, let's try to execute it! The Planner has a function called `execute_plan`."
      ]
    },
    {
      "cell_type": "code",
      "execution_count": 16,
      "id": "9384831a",
      "metadata": {
        "id": "9384831a"
      },
      "outputs": [],
      "source": [
        "results = await planner.execute_plan_async(new_plan, kernel)"
      ]
    },
    {
      "cell_type": "code",
      "execution_count": 17,
      "id": "9192b186",
      "metadata": {
        "id": "9192b186",
        "outputId": "1498fbe9-b8ef-4989-adcb-1c9d860703f4",
        "colab": {
          "base_uri": "https://localhost:8080/"
        }
      },
      "outputs": [
        {
          "output_type": "stream",
          "name": "stdout",
          "text": [
            "1. ASSUREZ-VOUS DE PARTICIPER À UN DÎNER ROMANTIQUE AUX CHANDELLES DANS UN RESTAURANT CHIC,\n",
            "2. UN PIQUE-NIQUE DANS LE PARC, AVEC DES SANDWICHS EN FORME DE CŒUR ET DES CHOCOLATS,\n",
            "3. PROFITEZ D'UNE JOURNÉE DE DÉTENTE EN COUPLE, AVEC DES MASSAGES ET DES SOINS DU VISAGE,\n",
            "4. GRIMPEZ LORS D'UNE RANDONNÉE PITTORESQUE, ET UNE FOIS AU SOMMET DE LA MONTAGNE, PROFITEZ D'UN PIQUE-NIQUE,\n",
            "5. ASSISTEZ À UN COURS DE CUISINE ENSEMBLE, ET APPRENEZ À PRÉPARER UN REPAS SPÉCIAL POUR LA SAINT-VALENTIN,\n",
            "6. LAISSEZ-VOUS ALLER À UN MARATHON DE FILMS ROMANTIQUES À LA MAISON,\n",
            "7. PARTEZ POUR UNE ESCAPADE D'UN WEEK-END DANS UN CHALET CONFORTABLE EN PLEINE NATURE,\n",
            "8. ORGANISEZ UNE SOIRÉE SURPRISE AVEC UNE CHASSE AU TRÉSOR À THÈME À TRAVERS LA VILLE,\n",
            "9. RÉDIGEZ DES LETTRES D'AMOUR ET ÉCHANGEZ-LES LORS D'UN REPAS ROMANTIQUE À LA MAISON,\n",
            "10. LANCEZ-VOUS DANS UNE VISITE DE DÉGUSTATION DE VINS ET PROFITEZ D'UNE JOURNÉE TRANQUILLE À EXPLORER LES VIGNOBLES.\n"
          ]
        }
      ],
      "source": [
        "print(results)"
      ]
    },
    {
      "cell_type": "markdown",
      "id": "e8a9b6b7",
      "metadata": {
        "id": "e8a9b6b7"
      },
      "source": [
        "# The Plan Object Model"
      ]
    },
    {
      "cell_type": "markdown",
      "id": "e50f8859",
      "metadata": {
        "id": "e50f8859"
      },
      "source": [
        "To build more advanced planners, we need to introduce a proper Plan object that can contain all the necessary state and information needed for high quality plans.\n",
        "\n",
        "To see what that object model is, look at (https://github.com/microsoft/semantic-kernel/blob/main/python/semantic_kernel/planning/plan.py)"
      ]
    },
    {
      "cell_type": "markdown",
      "id": "0a0cb2a2",
      "metadata": {
        "id": "0a0cb2a2"
      },
      "source": [
        "# Sequential Planner"
      ]
    },
    {
      "cell_type": "markdown",
      "id": "a1c66d83",
      "metadata": {
        "id": "a1c66d83"
      },
      "source": [
        "The sequential planner is an XML-based step-by-step planner. You can see the prompt used for it here (https://github.com/microsoft/semantic-kernel/blob/main/python/semantic_kernel/planning/sequential_planner/Skills/SequentialPlanning/skprompt.txt)"
      ]
    },
    {
      "cell_type": "code",
      "execution_count": 23,
      "id": "e2e90624",
      "metadata": {
        "id": "e2e90624"
      },
      "outputs": [],
      "source": [
        "#from semantic_kernel.planning import SequentialPlanner\n",
        "#planner = SequentialPlanner(kernel)"
      ]
    },
    {
      "cell_type": "code",
      "execution_count": 22,
      "id": "0d537981",
      "metadata": {
        "id": "0d537981",
        "outputId": "cb2ece91-9d3e-4e35-eee0-f733029071bd",
        "colab": {
          "base_uri": "https://localhost:8080/",
          "height": 471
        }
      },
      "outputs": [
        {
          "output_type": "error",
          "ename": "PlanningException",
          "evalue": "ignored",
          "traceback": [
            "\u001b[0;31m---------------------------------------------------------------------------\u001b[0m",
            "\u001b[0;31mPlanningException\u001b[0m                         Traceback (most recent call last)",
            "\u001b[0;32m<ipython-input-22-dc2215d94c73>\u001b[0m in \u001b[0;36m<cell line: 1>\u001b[0;34m()\u001b[0m\n\u001b[0;32m----> 1\u001b[0;31m \u001b[0msequential_plan\u001b[0m \u001b[0;34m=\u001b[0m \u001b[0;32mawait\u001b[0m \u001b[0mplanner\u001b[0m\u001b[0;34m.\u001b[0m\u001b[0mcreate_plan_async\u001b[0m\u001b[0;34m(\u001b[0m\u001b[0mgoal\u001b[0m\u001b[0;34m=\u001b[0m\u001b[0mask\u001b[0m\u001b[0;34m)\u001b[0m\u001b[0;34m\u001b[0m\u001b[0;34m\u001b[0m\u001b[0m\n\u001b[0m",
            "\u001b[0;32m/usr/local/lib/python3.10/dist-packages/semantic_kernel/planning/sequential_planner/sequential_planner.py\u001b[0m in \u001b[0;36mcreate_plan_async\u001b[0;34m(self, goal)\u001b[0m\n\u001b[1;32m    135\u001b[0m         \u001b[0;32mexcept\u001b[0m \u001b[0mPlanningException\u001b[0m \u001b[0;32mas\u001b[0m \u001b[0me\u001b[0m\u001b[0;34m:\u001b[0m\u001b[0;34m\u001b[0m\u001b[0;34m\u001b[0m\u001b[0m\n\u001b[1;32m    136\u001b[0m             \u001b[0;32mif\u001b[0m \u001b[0me\u001b[0m\u001b[0;34m.\u001b[0m\u001b[0merror_code\u001b[0m \u001b[0;34m==\u001b[0m \u001b[0mPlanningException\u001b[0m\u001b[0;34m.\u001b[0m\u001b[0mErrorCodes\u001b[0m\u001b[0;34m.\u001b[0m\u001b[0mCreatePlanError\u001b[0m\u001b[0;34m:\u001b[0m\u001b[0;34m\u001b[0m\u001b[0;34m\u001b[0m\u001b[0m\n\u001b[0;32m--> 137\u001b[0;31m                 \u001b[0;32mraise\u001b[0m \u001b[0me\u001b[0m\u001b[0;34m\u001b[0m\u001b[0;34m\u001b[0m\u001b[0m\n\u001b[0m\u001b[1;32m    138\u001b[0m             elif e.error_code in [\n\u001b[1;32m    139\u001b[0m                 \u001b[0mPlanningException\u001b[0m\u001b[0;34m.\u001b[0m\u001b[0mErrorCodes\u001b[0m\u001b[0;34m.\u001b[0m\u001b[0mInvalidPlan\u001b[0m\u001b[0;34m,\u001b[0m\u001b[0;34m\u001b[0m\u001b[0;34m\u001b[0m\u001b[0m\n",
            "\u001b[0;32m/usr/local/lib/python3.10/dist-packages/semantic_kernel/planning/sequential_planner/sequential_planner.py\u001b[0m in \u001b[0;36mcreate_plan_async\u001b[0;34m(self, goal)\u001b[0m\n\u001b[1;32m    123\u001b[0m \u001b[0;34m\u001b[0m\u001b[0m\n\u001b[1;32m    124\u001b[0m             \u001b[0;32mif\u001b[0m \u001b[0mlen\u001b[0m\u001b[0;34m(\u001b[0m\u001b[0mplan\u001b[0m\u001b[0;34m.\u001b[0m\u001b[0m_steps\u001b[0m\u001b[0;34m)\u001b[0m \u001b[0;34m==\u001b[0m \u001b[0;36m0\u001b[0m\u001b[0;34m:\u001b[0m\u001b[0;34m\u001b[0m\u001b[0;34m\u001b[0m\u001b[0m\n\u001b[0;32m--> 125\u001b[0;31m                 raise PlanningException(\n\u001b[0m\u001b[1;32m    126\u001b[0m                     \u001b[0mPlanningException\u001b[0m\u001b[0;34m.\u001b[0m\u001b[0mErrorCodes\u001b[0m\u001b[0;34m.\u001b[0m\u001b[0mCreatePlanError\u001b[0m\u001b[0;34m,\u001b[0m\u001b[0;34m\u001b[0m\u001b[0;34m\u001b[0m\u001b[0m\n\u001b[1;32m    127\u001b[0m                     (\n",
            "\u001b[0;31mPlanningException\u001b[0m: (<ErrorCodes.CreatePlanError: 3>, ('Not possible to create plan for goal with available functions.\\n', \"Goal:\\nTomorrow is Valentine's day. I need to come up with a few date ideas.\\nShe likes Shakespeare so write using his style. She speaks French so write it in French.\\nConvert the text to uppercase.\\nFunctions:\\nSummarizeSkill.Notegen:\\n  description: Automatically generate compact notes for any text or text document.\\n  inputs:\\n    - input: \\n\\nSummarizeSkill.Summarize:\\n  description: Summarize given text or any text document\\n  inputs:\\n    - input: Text to summarize\\n\\nSummarizeSkill.Topics:\\n  description: Analyze given text or document and extract key topics worth remembering\\n  inputs:\\n    - input: \\n\\nSummarizeSkill.MakeAbstractReadable:\\n  description: Given a scientific white paper abstract, rewrite it to make it more readable\\n  inputs:\\n    - input: \\n\\nWriterSkill.NovelChapterWithNotes:\\n  description: Write a chapter of a novel using notes about the chapter to write.\\n  inputs:\\n    - input: What the novel should be about.\\n  - theme: The theme of this novel.\\n  - notes: Notes useful to write this chapter.\\n  - previousChapter: The previous chapter synopsis.\\n  - chapterIndex: The number of the chapter to write.\\n\\nWriterSkill.EmailTo:\\n  description: Turn bullet points into an email to someone, using a polite tone\\n  inputs:\\n    - to: \\n  - input: \\n  - sender: \\n\\nWriterSkill.ShortPoem:\\n  description: Turn a scenario into..."
          ]
        }
      ],
      "source": [
        "#sequential_plan = await planner.create_plan_async(goal=ask)"
      ]
    },
    {
      "cell_type": "markdown",
      "id": "ee2f462b",
      "metadata": {
        "id": "ee2f462b"
      },
      "source": [
        "To see the steps that the Sequential Planner will take, we can iterate over them and print their descriptions"
      ]
    },
    {
      "cell_type": "code",
      "execution_count": 21,
      "id": "e7007418",
      "metadata": {
        "id": "e7007418",
        "outputId": "ad29b36f-bf5e-4c21-fa6c-153a2af49dbd",
        "colab": {
          "base_uri": "https://localhost:8080/",
          "height": 197
        }
      },
      "outputs": [
        {
          "output_type": "error",
          "ename": "NameError",
          "evalue": "ignored",
          "traceback": [
            "\u001b[0;31m---------------------------------------------------------------------------\u001b[0m",
            "\u001b[0;31mNameError\u001b[0m                                 Traceback (most recent call last)",
            "\u001b[0;32m<ipython-input-21-3298be50a778>\u001b[0m in \u001b[0;36m<cell line: 1>\u001b[0;34m()\u001b[0m\n\u001b[0;32m----> 1\u001b[0;31m \u001b[0;32mfor\u001b[0m \u001b[0mstep\u001b[0m \u001b[0;32min\u001b[0m \u001b[0msequential_plan\u001b[0m\u001b[0;34m.\u001b[0m\u001b[0m_steps\u001b[0m\u001b[0;34m:\u001b[0m\u001b[0;34m\u001b[0m\u001b[0;34m\u001b[0m\u001b[0m\n\u001b[0m\u001b[1;32m      2\u001b[0m     \u001b[0mprint\u001b[0m\u001b[0;34m(\u001b[0m\u001b[0mstep\u001b[0m\u001b[0;34m.\u001b[0m\u001b[0mdescription\u001b[0m\u001b[0;34m,\u001b[0m \u001b[0;34m\":\"\u001b[0m\u001b[0;34m,\u001b[0m \u001b[0mstep\u001b[0m\u001b[0;34m.\u001b[0m\u001b[0m_state\u001b[0m\u001b[0;34m.\u001b[0m\u001b[0m__dict__\u001b[0m\u001b[0;34m)\u001b[0m\u001b[0;34m\u001b[0m\u001b[0;34m\u001b[0m\u001b[0m\n",
            "\u001b[0;31mNameError\u001b[0m: name 'sequential_plan' is not defined"
          ]
        }
      ],
      "source": [
        "#for step in sequential_plan._steps:\n",
        "#    print(step.description, \":\", step._state.__dict__)"
      ]
    },
    {
      "cell_type": "markdown",
      "id": "4db5f844",
      "metadata": {
        "id": "4db5f844"
      },
      "source": [
        "Let's ask the sequential planner to execute the plan."
      ]
    },
    {
      "cell_type": "code",
      "execution_count": null,
      "id": "88411884",
      "metadata": {
        "id": "88411884"
      },
      "outputs": [],
      "source": [
        "#result = await sequential_plan.invoke_async()"
      ]
    },
    {
      "cell_type": "code",
      "execution_count": null,
      "id": "36d27aa0",
      "metadata": {
        "id": "36d27aa0"
      },
      "outputs": [],
      "source": [
        "#print(result)"
      ]
    },
    {
      "cell_type": "markdown",
      "id": "d6487c75",
      "metadata": {
        "id": "d6487c75"
      },
      "source": [
        "# Action Planner"
      ]
    },
    {
      "cell_type": "markdown",
      "id": "b045e26b",
      "metadata": {
        "id": "b045e26b"
      },
      "source": [
        "The action planner takes in a list of functions and the goal, and outputs a **single** function to use that is appropriate to meet that goal."
      ]
    },
    {
      "cell_type": "code",
      "execution_count": null,
      "id": "5bfc0b9f",
      "metadata": {
        "id": "5bfc0b9f"
      },
      "outputs": [],
      "source": [
        "from semantic_kernel.planning import ActionPlanner\n",
        "planner = ActionPlanner(kernel)"
      ]
    },
    {
      "cell_type": "markdown",
      "id": "53b1f296",
      "metadata": {
        "id": "53b1f296"
      },
      "source": [
        "Let's add more skills to the kernel"
      ]
    },
    {
      "cell_type": "code",
      "execution_count": null,
      "id": "cc12642a",
      "metadata": {
        "id": "cc12642a"
      },
      "outputs": [],
      "source": [
        "from semantic_kernel.core_skills import FileIOSkill, MathSkill, TextSkill, TimeSkill\n",
        "kernel.import_skill(MathSkill(), \"math\")\n",
        "kernel.import_skill(FileIOSkill(), \"fileIO\")\n",
        "kernel.import_skill(TimeSkill(), \"time\")\n",
        "kernel.import_skill(TextSkill(), \"text\")"
      ]
    },
    {
      "cell_type": "code",
      "execution_count": null,
      "id": "b938dc0e",
      "metadata": {
        "id": "b938dc0e"
      },
      "outputs": [],
      "source": [
        "ask = \"What is the sum of 110 and 990?\""
      ]
    },
    {
      "cell_type": "code",
      "execution_count": null,
      "id": "3aafd268",
      "metadata": {
        "id": "3aafd268"
      },
      "outputs": [],
      "source": [
        "plan = await planner.create_plan_async(goal=ask)"
      ]
    },
    {
      "cell_type": "code",
      "execution_count": null,
      "id": "42589835",
      "metadata": {
        "id": "42589835"
      },
      "outputs": [],
      "source": [
        "result = await plan.invoke_async()"
      ]
    },
    {
      "cell_type": "code",
      "execution_count": null,
      "id": "dc75e7a9",
      "metadata": {
        "id": "dc75e7a9"
      },
      "outputs": [],
      "source": [
        "print(result)"
      ]
    },
    {
      "cell_type": "markdown",
      "id": "789b651a",
      "metadata": {
        "id": "789b651a"
      },
      "source": [
        "# Stepwise Planner"
      ]
    },
    {
      "cell_type": "markdown",
      "id": "8a4bbcc3",
      "metadata": {
        "id": "8a4bbcc3"
      },
      "source": [
        "Stepwise Planner is based off the paper from MRKL (Modular Reasoning, Knowledge and Language) and is similar to other papers like ReACT (Reasoning and Acting in Language Models). At the core, the stepwise planner allows for the AI to form \"thoughts\" and \"observations\" and execute actions based off those to achieve a user's goal. This continues until all required functions are complete and a final output is generated.\n",
        "\n",
        "See a video walkthrough of Stepwise Planner [here.](https://youtu.be/DG_Ge1v0c4Q?si=T1CHaAm1vV0mWRHu)"
      ]
    },
    {
      "cell_type": "code",
      "execution_count": null,
      "id": "32839327",
      "metadata": {
        "id": "32839327"
      },
      "outputs": [],
      "source": [
        "from semantic_kernel.planning import StepwisePlanner\n",
        "from semantic_kernel.planning.stepwise_planner.stepwise_planner_config import (\n",
        "    StepwisePlannerConfig,\n",
        ")"
      ]
    },
    {
      "cell_type": "markdown",
      "id": "e0a00bde",
      "metadata": {
        "id": "e0a00bde"
      },
      "source": [
        "Let's create a Bing Search native skill that we can pass in to the Kernel.\n",
        "\n",
        "Make sure you have a Bing Search API key in your `.env` file\n",
        "\n",
        "(https://www.microsoft.com/en-us/bing/apis/bing-web-search-api)"
      ]
    },
    {
      "cell_type": "code",
      "execution_count": null,
      "id": "92fc5de8",
      "metadata": {
        "id": "92fc5de8"
      },
      "outputs": [],
      "source": [
        "class WebSearchEngineSkill:\n",
        "    \"\"\"\n",
        "    A search engine skill.\n",
        "    \"\"\"\n",
        "    from semantic_kernel.orchestration.sk_context import SKContext\n",
        "    from semantic_kernel.skill_definition import sk_function, sk_function_context_parameter\n",
        "\n",
        "    def __init__(self, connector) -> None:\n",
        "        self._connector = connector\n",
        "\n",
        "    @sk_function(\n",
        "        description=\"Performs a web search for a given query\", name=\"searchAsync\"\n",
        "    )\n",
        "    @sk_function_context_parameter(\n",
        "        name=\"query\",\n",
        "        description=\"The search query\",\n",
        "    )\n",
        "    async def search_async(self, query: str, context: SKContext) -> str:\n",
        "        query = query or context.variables.get(\"query\")[1]\n",
        "        result = await self._connector.search_async(query, num_results=5, offset=0)\n",
        "        return str(result)"
      ]
    },
    {
      "cell_type": "code",
      "execution_count": null,
      "id": "415f7876",
      "metadata": {
        "id": "415f7876"
      },
      "outputs": [],
      "source": [
        "from semantic_kernel.connectors.search_engine import BingConnector\n",
        "\n",
        "BING_API_KEY = sk.bing_search_settings_from_dot_env()\n",
        "connector = BingConnector(BING_API_KEY)\n",
        "kernel.import_skill(WebSearchEngineSkill(connector), skill_name=\"WebSearch\")"
      ]
    },
    {
      "cell_type": "markdown",
      "id": "effdf3ab",
      "metadata": {
        "id": "effdf3ab"
      },
      "source": [
        "Let's also add a couple more skills"
      ]
    },
    {
      "cell_type": "code",
      "execution_count": null,
      "id": "abe150e0",
      "metadata": {
        "id": "abe150e0"
      },
      "outputs": [],
      "source": [
        "from semantic_kernel.core_skills.math_skill import MathSkill\n",
        "from semantic_kernel.core_skills.time_skill import TimeSkill\n",
        "\n",
        "kernel.import_skill(TimeSkill(), \"time\")\n",
        "kernel.import_skill(MathSkill(), \"math\")"
      ]
    },
    {
      "cell_type": "code",
      "execution_count": null,
      "id": "06d08549",
      "metadata": {
        "id": "06d08549"
      },
      "outputs": [],
      "source": [
        "planner = StepwisePlanner(\n",
        "    kernel, StepwisePlannerConfig(max_iterations=10, min_iteration_time_ms=1000)\n",
        ")"
      ]
    },
    {
      "cell_type": "markdown",
      "id": "50699ec3",
      "metadata": {
        "id": "50699ec3"
      },
      "source": [
        "Now let's do a more complicated ask that will require planner to make a call to Bing to get the latest information."
      ]
    },
    {
      "cell_type": "code",
      "execution_count": null,
      "id": "596ade21",
      "metadata": {
        "id": "596ade21"
      },
      "outputs": [],
      "source": [
        "ask = \"\"\"How many total championships combined do the top 5 teams in the NBA have?\"\"\"\n",
        "\n",
        "plan = planner.create_plan(goal=ask)"
      ]
    },
    {
      "cell_type": "code",
      "execution_count": null,
      "id": "176988ac",
      "metadata": {
        "id": "176988ac"
      },
      "outputs": [],
      "source": [
        "result = await plan.invoke_async()"
      ]
    },
    {
      "cell_type": "code",
      "execution_count": null,
      "id": "d00c6f71",
      "metadata": {
        "id": "d00c6f71"
      },
      "outputs": [],
      "source": [
        "print(result)"
      ]
    },
    {
      "cell_type": "markdown",
      "id": "cb40370d",
      "metadata": {
        "id": "cb40370d"
      },
      "source": [
        "Let's see the steps that the AI took to get to the answer."
      ]
    },
    {
      "cell_type": "code",
      "execution_count": null,
      "id": "7159ca1b",
      "metadata": {
        "id": "7159ca1b"
      },
      "outputs": [],
      "source": [
        "for index, step in enumerate(plan._steps):\n",
        "    print(\"Step:\", index)\n",
        "    print(\"Description:\",step.description)\n",
        "    print(\"Function:\", step.skill_name + \".\" + step._function.name)\n",
        "    if len(step._outputs) > 0:\n",
        "        print( \"  Output:\\n\", str.replace(result[step._outputs[0]],\"\\n\", \"\\n  \"))"
      ]
    }
  ],
  "metadata": {
    "kernelspec": {
      "display_name": "Python 3 (ipykernel)",
      "language": "python",
      "name": "python3"
    },
    "language_info": {
      "codemirror_mode": {
        "name": "ipython",
        "version": 3
      },
      "file_extension": ".py",
      "mimetype": "text/x-python",
      "name": "python",
      "nbconvert_exporter": "python",
      "pygments_lexer": "ipython3",
      "version": "3.10.11"
    },
    "colab": {
      "provenance": [],
      "include_colab_link": true
    }
  },
  "nbformat": 4,
  "nbformat_minor": 5
}