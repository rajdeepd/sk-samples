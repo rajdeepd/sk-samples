{
  "cells": [
    {
      "cell_type": "markdown",
      "metadata": {
        "id": "view-in-github",
        "colab_type": "text"
      },
      "source": [
        "<a href=\"https://colab.research.google.com/github/rajdeepd/sk-samples/blob/main/colab/02-colab-running-prompts-from-file.ipynb\" target=\"_parent\"><img src=\"https://colab.research.google.com/assets/colab-badge.svg\" alt=\"Open In Colab\"/></a>"
      ]
    },
    {
      "cell_type": "markdown",
      "id": "692e361b",
      "metadata": {
        "id": "692e361b"
      },
      "source": [
        "# How to run a semantic skills from file using Google Colab\n",
        "\n",
        "Now that you're familiar with Kernel basics, let's see how the kernel allows you to run Semantic Skills and Semantic Functions stored on disk.\n",
        "\n",
        "A Semantic Skill is a collection of Semantic Functions, where each function is defined with natural language that can be provided with a text file.\n",
        "\n",
        "Refer to our [glossary](https://github.com/microsoft/semantic-kernel/blob/main/docs/GLOSSARY.md) for an in-depth guide to the terms.\n",
        "\n",
        "The repository includes some examples under the [samples](https://github.com/microsoft/semantic-kernel/tree/main/samples) folder.\n",
        "\n",
        "For instance, [this](../../skills/FunSkill/Joke/skprompt.txt) is the **Joke function** part of the **FunSkill skill**:"
      ]
    },
    {
      "cell_type": "markdown",
      "id": "f3ce1efe",
      "metadata": {
        "id": "f3ce1efe"
      },
      "source": [
        "```\n",
        "WRITE EXACTLY ONE JOKE or HUMOROUS STORY ABOUT THE TOPIC BELOW.\n",
        "JOKE MUST BE:\n",
        "- G RATED\n",
        "- WORKPLACE/FAMILY SAFE\n",
        "NO SEXISM, RACISM OR OTHER BIAS/BIGOTRY.\n",
        "BE CREATIVE AND FUNNY. I WANT TO LAUGH.\n",
        "+++++\n",
        "{{$input}}\n",
        "+++++\n",
        "```"
      ]
    },
    {
      "cell_type": "markdown",
      "id": "afdb96d6",
      "metadata": {
        "id": "afdb96d6"
      },
      "source": [
        "Note the special **`{{$input}}`** token, which is a variable that is automatically passed when invoking the function, commonly referred to as a \"function parameter\".\n",
        "\n",
        "We'll explore later how functions can accept multiple variables, as well as invoke other functions."
      ]
    },
    {
      "cell_type": "markdown",
      "id": "c3bd5134",
      "metadata": {
        "id": "c3bd5134"
      },
      "source": [
        "\n",
        "In the same folder you'll notice a second [config.json](../../skills/FunSkill/Joke/config.json) file. The file is optional, and is used to set some parameters for large language models like Temperature, TopP, Stop Sequences, etc.\n",
        "\n",
        "```\n",
        "{\n",
        "  \"schema\": 1,\n",
        "  \"type\": \"completion\",\n",
        "  \"description\": \"Generate a funny joke\",\n",
        "  \"completion\": {\n",
        "    \"max_tokens\": 500,\n",
        "    \"temperature\": 0.5,\n",
        "    \"top_p\": 0.5\n",
        "  }\n",
        "}\n",
        "```"
      ]
    },
    {
      "cell_type": "markdown",
      "id": "384ff07f",
      "metadata": {
        "id": "384ff07f"
      },
      "source": [
        "Given a semantic function defined by these files, this is how to load and use a file based semantic function.\n",
        "\n",
        "Load and configure the kernel, as usual, loading also the AI service settings defined in the [Setup notebook](00-getting-started.ipynb):"
      ]
    },
    {
      "cell_type": "code",
      "execution_count": 7,
      "id": "365cfc01",
      "metadata": {
        "id": "365cfc01"
      },
      "outputs": [],
      "source": [
        "## Uncomment if running first time\n",
        "\n",
        "#!python -m pip install semantic-kernel==0.3.15.dev0"
      ]
    },
    {
      "cell_type": "code",
      "source": [
        "## This is the version of numpy which works with semantic kernel\n",
        "#!pip install numpy==1.24.2"
      ],
      "metadata": {
        "colab": {
          "base_uri": "https://localhost:8080/"
        },
        "id": "r0TdgpeX8qao",
        "outputId": "ea0b8fc1-5a0b-445c-b1a2-beeb662d9bb0"
      },
      "id": "r0TdgpeX8qao",
      "execution_count": 6,
      "outputs": [
        {
          "output_type": "stream",
          "name": "stdout",
          "text": [
            "Requirement already satisfied: numpy==1.24.2 in /usr/local/lib/python3.10/dist-packages (1.24.2)\n"
          ]
        }
      ]
    },
    {
      "cell_type": "code",
      "source": [
        "from google.colab import userdata\n",
        "OPENAI_API_KEY = userdata.get('OPENAI_API_KEY')\n",
        "#OPENAI_API_KEY"
      ],
      "metadata": {
        "id": "IsvDlcSb9A5_"
      },
      "id": "IsvDlcSb9A5_",
      "execution_count": 1,
      "outputs": []
    },
    {
      "cell_type": "code",
      "execution_count": 3,
      "id": "b0062a24",
      "metadata": {
        "id": "b0062a24"
      },
      "outputs": [],
      "source": [
        "import semantic_kernel as sk\n",
        "from semantic_kernel.connectors.ai.open_ai import AzureChatCompletion, OpenAIChatCompletion\n",
        "\n",
        "kernel = sk.Kernel()\n",
        "\n",
        "useAzureOpenAI = False\n",
        "\n",
        "# Configure AI service used by the kernel\n",
        "if useAzureOpenAI:\n",
        "    deployment, api_key, endpoint = sk.azure_openai_settings_from_dot_env()\n",
        "    kernel.add_chat_service(\"chat_completion\", AzureChatCompletion(deployment, endpoint, api_key))\n",
        "else:\n",
        "    #api_key, org_id = sk.openai_settings_from_dot_env()\n",
        "    api_key = OPENAI_API_KEY\n",
        "    org_id = \"\"\n",
        "    kernel.add_chat_service(\"chat-gpt\", OpenAIChatCompletion(\"gpt-3.5-turbo\", api_key, org_id))"
      ]
    },
    {
      "cell_type": "code",
      "source": [
        "from google.colab import drive\n",
        "drive.mount('/content/drive')"
      ],
      "metadata": {
        "colab": {
          "base_uri": "https://localhost:8080/"
        },
        "id": "LIGZUvv29169",
        "outputId": "48340b3e-74cf-4840-fbde-1eb9241916ef"
      },
      "id": "LIGZUvv29169",
      "execution_count": 4,
      "outputs": [
        {
          "output_type": "stream",
          "name": "stdout",
          "text": [
            "Mounted at /content/drive\n"
          ]
        }
      ]
    },
    {
      "cell_type": "markdown",
      "id": "fd5ff1f4",
      "metadata": {
        "id": "fd5ff1f4"
      },
      "source": [
        "Import the skill and all its functions:"
      ]
    },
    {
      "cell_type": "code",
      "execution_count": 5,
      "id": "56ee184d",
      "metadata": {
        "id": "56ee184d"
      },
      "outputs": [],
      "source": [
        "# note: using skills from the samples folder\n",
        "skills_directory = \"/content/drive/MyDrive/skills\"\n",
        "\n",
        "funFunctions = kernel.import_semantic_skill_from_directory(skills_directory, \"FunSkill\")\n",
        "\n",
        "jokeFunction = funFunctions[\"Joke\"]"
      ]
    },
    {
      "cell_type": "markdown",
      "id": "edd99fa0",
      "metadata": {
        "id": "edd99fa0"
      },
      "source": [
        "How to use the skill functions, e.g. generate a joke about \"*time travel to dinosaur age*\":"
      ]
    },
    {
      "cell_type": "code",
      "execution_count": 6,
      "id": "6effe63b",
      "metadata": {
        "colab": {
          "base_uri": "https://localhost:8080/"
        },
        "id": "6effe63b",
        "outputId": "92cc2255-5455-4df2-b156-c1985925faa6"
      },
      "outputs": [
        {
          "output_type": "stream",
          "name": "stdout",
          "text": [
            "Why did the time traveler bring a ladder to the dinosaur age?\n",
            "\n",
            "Because he wanted to reach new heights in history!\n"
          ]
        }
      ],
      "source": [
        "result = jokeFunction(\"time travel to dinosaur age\")\n",
        "\n",
        "print(result)\n",
        "\n",
        "# You can also invoke functions asynchronously\n",
        "# result = await jokeFunction.invoke_async(\"time travel to dinosaur age\")\n",
        "# print(result)"
      ]
    },
    {
      "cell_type": "markdown",
      "id": "2281a1fc",
      "metadata": {
        "id": "2281a1fc"
      },
      "source": [
        "Great, now that you know how to load a skill from disk, let's show how you can [create and run a semantic function inline.](./03-semantic-function-inline.ipynb)"
      ]
    }
  ],
  "metadata": {
    "kernelspec": {
      "display_name": "Python 3 (ipykernel)",
      "language": "python",
      "name": "python3"
    },
    "language_info": {
      "codemirror_mode": {
        "name": "ipython",
        "version": 3
      },
      "file_extension": ".py",
      "mimetype": "text/x-python",
      "name": "python",
      "nbconvert_exporter": "python",
      "pygments_lexer": "ipython3",
      "version": "3.10.10"
    },
    "colab": {
      "provenance": [],
      "include_colab_link": true
    }
  },
  "nbformat": 4,
  "nbformat_minor": 5
}